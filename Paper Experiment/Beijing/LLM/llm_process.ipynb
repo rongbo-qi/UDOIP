{
 "cells": [
  {
   "cell_type": "code",
   "execution_count": 1,
   "id": "initial_id",
   "metadata": {
    "collapsed": true,
    "ExecuteTime": {
     "end_time": "2024-08-12T09:22:45.994051100Z",
     "start_time": "2024-08-12T09:22:45.507796500Z"
    }
   },
   "outputs": [],
   "source": [
    "from langchain_community.chat_models import ChatZhipuAI\n",
    "from langchain_core.messages import AIMessage, HumanMessage, SystemMessage"
   ]
  },
  {
   "cell_type": "code",
   "outputs": [],
   "source": [
    "import os\n",
    "os.environ[\"ZHIPUAI_API_KEY\"] = \"6771943d3790217c139b3809aec6858f.np9HoDC4J6JIyyQh\""
   ],
   "metadata": {
    "collapsed": false,
    "ExecuteTime": {
     "end_time": "2024-08-12T09:22:46.624178300Z",
     "start_time": "2024-08-12T09:22:46.605051100Z"
    }
   },
   "id": "9430d49774e099b",
   "execution_count": 2
  },
  {
   "cell_type": "code",
   "outputs": [],
   "source": [
    "chat = ChatZhipuAI(\n",
    "    model=\"glm-4-air\",\n",
    "    temperature=0.2,\n",
    ")"
   ],
   "metadata": {
    "collapsed": false,
    "ExecuteTime": {
     "end_time": "2024-08-12T09:22:47.729858Z",
     "start_time": "2024-08-12T09:22:47.703812300Z"
    }
   },
   "id": "4a5c8024e0c81386",
   "execution_count": 3
  },
  {
   "cell_type": "code",
   "outputs": [
    {
     "name": "stdout",
     "output_type": "stream",
     "text": [
      "The output should be a markdown code snippet formatted in the following schema, including the leading and trailing \"```json\" and \"```\":\n",
      "\n",
      "```json\n",
      "{\n",
      "\t\"poi_name_list\": list[list[string]]  // 以POI名称作为元素构成列表给出每一天行程的访问顺序\n",
      "\t\"poi_cate_list\": list[list[string]]  // 以POI类型作为元素构成列表，对应到poi_name_list每一天的行程，具体类型有‘景点’‘餐厅’‘酒店’\n",
      "\t\"poi_rec_time_list\": list[list[float]]  // 以POI推荐游玩停留时间作为元素构成列表，对应到poi_name_list每一天的行程，以h为单位\n",
      "}\n",
      "```\n"
     ]
    }
   ],
   "source": [
    "from langchain.output_parsers import ResponseSchema\n",
    "from langchain.output_parsers import StructuredOutputParser\n",
    "\n",
    "name_schema = ResponseSchema(name=\"poi_name_list\",\n",
    "                             type=\"list[list[string]]\",\n",
    "                             description=\"以POI名称作为元素构成列表给出每一天行程的访问顺序\")\n",
    "cate_schema = ResponseSchema(name=\"poi_cate_list\",\n",
    "                             type=\"list[list[string]]\",\n",
    "                             description=\"以POI类型作为元素构成列表，对应到poi_name_list每一天的行程，具体类型有‘景点’‘餐厅’‘酒店’\")\n",
    "recommend_time_schema = ResponseSchema(name=\"poi_rec_time_list\",\n",
    "                             type=\"list[list[float]]\",\n",
    "                             description=\"以POI推荐游玩停留时间作为元素构成列表，对应到poi_name_list每一天的行程，以h为单位\")\n",
    "\n",
    "# \n",
    "# time_schema = ResponseSchema(name=\"time\",\n",
    "#                              description=\"以每日推荐时间作为元素构成的列表给出每一天行程的访问顺序\")\n",
    "\n",
    "response_schemas = [name_schema, cate_schema, recommend_time_schema]\n",
    "output_parser = StructuredOutputParser.from_response_schemas(response_schemas)\n",
    "format_instructions = output_parser.get_format_instructions()\n",
    "print(format_instructions)"
   ],
   "metadata": {
    "collapsed": false,
    "ExecuteTime": {
     "end_time": "2024-08-12T09:22:48.573124200Z",
     "start_time": "2024-08-12T09:22:48.467037100Z"
    }
   },
   "id": "4725c4e25c4b1976",
   "execution_count": 4
  },
  {
   "cell_type": "code",
   "outputs": [],
   "source": [
    "messages = [\n",
    "    AIMessage(content=\"你好，我是行程规划助手。\"),\n",
    "    SystemMessage(content=f\"你是一个行程规划助手，你的工作是根据你的知识一次理解用户的需求（不可询问额外信息），根据单轮用户的需求给出合理的每日旅行计划，需要从酒店开始以酒店结束，每天需要至少包含2个餐厅和合适数量的景点，所有POI均需要给出完整准确的信息，不能缩写，输出不能包含注释。\\n {format_instructions}\"),\n",
    "    HumanMessage(content=\"我想去天津游玩3天\"),\n",
    "]"
   ],
   "metadata": {
    "collapsed": false,
    "ExecuteTime": {
     "end_time": "2024-08-12T09:22:50.756765700Z",
     "start_time": "2024-08-12T09:22:50.734664900Z"
    }
   },
   "id": "ba6c35989151b22b",
   "execution_count": 5
  },
  {
   "cell_type": "code",
   "outputs": [
    {
     "name": "stdout",
     "output_type": "stream",
     "text": [
      "content='```json\\n{\\n\\t\"poi_name_list\": [\\n\\t\\t[\"天津之眼\", \"古文化街\", \"天津狗不理包子博物馆\", \"海河意式风情区\", \"酒店\"],\\n\\t\\t[\"瓷房子\", \"天津五大道\", \"张小泉美食街\", \"天津博物馆\", \"酒店\"],\\n\\t\\t[\"天津海昌极地海洋世界\", \"天津蓟州区的盘山风景名胜区\", \"耳朵眼炸糕店\", \"酒店\"]\\n\\t],\\n\\t\"poi_cate_list\": [\\n\\t\\t[\"景点\", \"景点\", \"餐厅\", \"景点\", \"酒店\"],\\n\\t\\t[\"景点\", \"景点\", \"餐厅\", \"景点\", \"酒店\"],\\n\\t\\t[\"景点\", \"景点\", \"餐厅\", \"酒店\"]\\n\\t],\\n\\t\"poi_rec_time_list\": [\\n\\t\\t[2.0, 2.0, 1.5, 2.0, 0.5],\\n\\t\\t[2.0, 2.0, 1.5, 2.0, 0.5],\\n\\t\\t[3.0, 3.0, 1.0, 0.5]\\n\\t]\\n}\\n```' response_metadata={'token_usage': {'completion_tokens': 247, 'prompt_tokens': 236, 'total_tokens': 483}, 'model_name': 'glm-4-air', 'finish_reason': 'stop'} id='run-005f1e09-b484-460a-9dbf-2bfda378e370-0'\n",
      "```json\n",
      "{\n",
      "\t\"poi_name_list\": [\n",
      "\t\t[\"天津之眼\", \"古文化街\", \"天津狗不理包子博物馆\", \"海河意式风情区\", \"酒店\"],\n",
      "\t\t[\"瓷房子\", \"天津五大道\", \"张小泉美食街\", \"天津博物馆\", \"酒店\"],\n",
      "\t\t[\"天津海昌极地海洋世界\", \"天津蓟州区的盘山风景名胜区\", \"耳朵眼炸糕店\", \"酒店\"]\n",
      "\t],\n",
      "\t\"poi_cate_list\": [\n",
      "\t\t[\"景点\", \"景点\", \"餐厅\", \"景点\", \"酒店\"],\n",
      "\t\t[\"景点\", \"景点\", \"餐厅\", \"景点\", \"酒店\"],\n",
      "\t\t[\"景点\", \"景点\", \"餐厅\", \"酒店\"]\n",
      "\t],\n",
      "\t\"poi_rec_time_list\": [\n",
      "\t\t[2.0, 2.0, 1.5, 2.0, 0.5],\n",
      "\t\t[2.0, 2.0, 1.5, 2.0, 0.5],\n",
      "\t\t[3.0, 3.0, 1.0, 0.5]\n",
      "\t]\n",
      "}\n",
      "```\n"
     ]
    }
   ],
   "source": [
    "response = chat.invoke(messages)\n",
    "print(response)\n",
    "print(response.content)"
   ],
   "metadata": {
    "collapsed": false,
    "ExecuteTime": {
     "end_time": "2024-08-12T09:22:59.526766300Z",
     "start_time": "2024-08-12T09:22:53.429128200Z"
    }
   },
   "id": "9f6cc43c71cab3ae",
   "execution_count": 6
  },
  {
   "cell_type": "code",
   "outputs": [
    {
     "data": {
      "text/plain": "{'poi_name_list': [['天津之眼', '古文化街', '天津狗不理包子博物馆', '海河意式风情区', '酒店'],\n  ['瓷房子', '天津五大道', '张小泉美食街', '天津博物馆', '酒店'],\n  ['天津海昌极地海洋世界', '天津蓟州区的盘山风景名胜区', '耳朵眼炸糕店', '酒店']],\n 'poi_cate_list': [['景点', '景点', '餐厅', '景点', '酒店'],\n  ['景点', '景点', '餐厅', '景点', '酒店'],\n  ['景点', '景点', '餐厅', '酒店']],\n 'poi_rec_time_list': [[2.0, 2.0, 1.5, 2.0, 0.5],\n  [2.0, 2.0, 1.5, 2.0, 0.5],\n  [3.0, 3.0, 1.0, 0.5]]}"
     },
     "execution_count": 7,
     "metadata": {},
     "output_type": "execute_result"
    }
   ],
   "source": [
    "output_dict = output_parser.parse(response.content)\n",
    "output_dict"
   ],
   "metadata": {
    "collapsed": false,
    "ExecuteTime": {
     "end_time": "2024-08-12T09:23:07.897505800Z",
     "start_time": "2024-08-12T09:23:07.867798Z"
    }
   },
   "id": "25ed94e502989638",
   "execution_count": 7
  },
  {
   "cell_type": "code",
   "outputs": [
    {
     "data": {
      "text/plain": "list"
     },
     "execution_count": 51,
     "metadata": {},
     "output_type": "execute_result"
    }
   ],
   "source": [
    "type(output_dict['poi_name_list'])"
   ],
   "metadata": {
    "collapsed": false,
    "ExecuteTime": {
     "end_time": "2024-08-12T06:53:37.273579300Z",
     "start_time": "2024-08-12T06:53:37.247568900Z"
    }
   },
   "id": "1c46c61a43173393",
   "execution_count": 51
  },
  {
   "cell_type": "code",
   "outputs": [],
   "source": [],
   "metadata": {
    "collapsed": false
   },
   "id": "63efdf62de4f5f81"
  }
 ],
 "metadata": {
  "kernelspec": {
   "display_name": "Python 3",
   "language": "python",
   "name": "python3"
  },
  "language_info": {
   "codemirror_mode": {
    "name": "ipython",
    "version": 2
   },
   "file_extension": ".py",
   "mimetype": "text/x-python",
   "name": "python",
   "nbconvert_exporter": "python",
   "pygments_lexer": "ipython2",
   "version": "2.7.6"
  }
 },
 "nbformat": 4,
 "nbformat_minor": 5
}
