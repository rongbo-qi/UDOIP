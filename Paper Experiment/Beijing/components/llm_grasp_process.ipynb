{
 "cells": [
  {
   "cell_type": "code",
   "execution_count": 1,
   "id": "initial_id",
   "metadata": {
    "collapsed": true,
    "ExecuteTime": {
     "end_time": "2024-08-12T08:23:38.605214700Z",
     "start_time": "2024-08-12T08:23:38.120738100Z"
    }
   },
   "outputs": [],
   "source": [
    "from langchain_community.chat_models import ChatZhipuAI\n",
    "from langchain_core.messages import AIMessage, HumanMessage, SystemMessage"
   ]
  },
  {
   "cell_type": "code",
   "outputs": [],
   "source": [
    "import os\n",
    "os.environ[\"ZHIPUAI_API_KEY\"] = \"6771943d3790217c139b3809aec6858f.np9HoDC4J6JIyyQh\""
   ],
   "metadata": {
    "collapsed": false,
    "ExecuteTime": {
     "end_time": "2024-08-12T08:23:38.622362600Z",
     "start_time": "2024-08-12T08:23:38.607217600Z"
    }
   },
   "id": "9430d49774e099b",
   "execution_count": 2
  },
  {
   "cell_type": "code",
   "outputs": [],
   "source": [
    "chat = ChatZhipuAI(\n",
    "    model=\"glm-4-air\",\n",
    "    temperature=0.2,\n",
    ")"
   ],
   "metadata": {
    "collapsed": false,
    "ExecuteTime": {
     "end_time": "2024-08-12T08:23:38.641361800Z",
     "start_time": "2024-08-12T08:23:38.620363700Z"
    }
   },
   "id": "4a5c8024e0c81386",
   "execution_count": 3
  },
  {
   "cell_type": "code",
   "outputs": [
    {
     "name": "stdout",
     "output_type": "stream",
     "text": [
      "The output should be a markdown code snippet formatted in the following schema, including the leading and trailing \"```json\" and \"```\":\n",
      "\n",
      "```json\n",
      "{\n",
      "\t\"N_c_min\": list[integer]  // 类别的最小访问次数，按照景点、餐饮、酒店的顺序以list的形式给出。默认为[0, 2, 2]。例如餐饮最小数量设置为3代表需要早午晚餐，美食之旅则改为4等。\n",
      "\t\"N_c_max\": list[integer]  // 类别的最大访问次数，按照景点、餐饮、酒店的顺序以list的形式给出。默认为[10, 2, 2]。例如美食相关探店需要大于等于5的设置。\n",
      "\t\"use_min_restaurant_gap\": float  // 餐饮类别的最小时间间隔约束，范围在[1, 3]之间，默认是3。更小的数值适用于需要频繁探店或体验美食之旅的情况。\n",
      "\t\"poi_id_list\": list[string]  // 用户必须访问的POI列表，按照用户偏好在你的知识库中进行筛选，数量上达到平均每天选择1-2个景点。\n",
      "\t\"route_num\": integer  // 路线数，即旅行天数，默认为3天。\n",
      "\t\"start_end_poi\": string  // 单路线起始点（酒店），默认为null，用户可指定修改。\n",
      "\t\"start_day_time\": string  // 每天的开始时间，默认为09:00:00。根据需要设定更早或更晚的时间，以适应休闲或紧凑的旅游风格。\n",
      "\t\"plan_max_time\": integer  // 单条路线最大时间，默认为12小时。根据需要调整时间长度，适应更休闲或更紧凑的旅行计划。\n",
      "\t\"tightness_w\": float  // 紧凑度权重，设置在0.5至1.5之间。根据用户需求调整，更高值适合休闲体验，较低值适合紧凑旅行。\n",
      "\t\"user_budget\": float  // 用户预算，以1e9为默认值，表示没有预算限制。\n",
      "\t\"not_poi_list\": list[string]  // 用户不考虑访问的POI列表，根据个人偏好排除某些POI，默认为空列表。\n",
      "}\n",
      "```\n"
     ]
    }
   ],
   "source": [
    "from langchain.output_parsers import ResponseSchema\n",
    "from langchain.output_parsers import StructuredOutputParser\n",
    "\n",
    "# 定义关于最小访问次数的响应方案\n",
    "min_visits_schema = ResponseSchema(name=\"N_c_min\",\n",
    "                                   type=\"list[integer]\",\n",
    "                                   description=\"类别的最小访问次数，按照景点、餐饮、酒店的顺序以list的形式给出。默认为[0, 2, 2]。例如餐饮最小数量设置为3代表需要早午晚餐，美食之旅则改为4等。\")\n",
    "\n",
    "# 定义关于最大访问次数的响应方案\n",
    "max_visits_schema = ResponseSchema(name=\"N_c_max\",\n",
    "                                   type=\"list[integer]\",\n",
    "                                   description=\"类别的最大访问次数，按照景点、餐饮、酒店的顺序以list的形式给出。默认为[10, 2, 2]。例如美食相关探店需要大于等于5的设置。\")\n",
    "\n",
    "# 定义关于餐饮最小时间间隔的响应方案\n",
    "min_restaurant_gap_schema = ResponseSchema(name=\"use_min_restaurant_gap\",\n",
    "                                           type=\"float\",\n",
    "                                           description=\"餐饮类别的最小时间间隔约束，范围在[1, 3]之间，默认是3。更小的数值适用于需要频繁探店或体验美食之旅的情况。\")\n",
    "\n",
    "# 定义必须访问的POI列表的响应方案\n",
    "mandatory_pois_schema = ResponseSchema(name=\"poi_id_list\",\n",
    "                                       type=\"list[string]\",\n",
    "                                       description=\"用户必须访问的POI列表，按照用户偏好在你的知识库中进行筛选，数量上达到平均每天选择1-2个景点。\")\n",
    "\n",
    "# 定义路线数的响应方案\n",
    "route_num_schema = ResponseSchema(name=\"route_num\",\n",
    "                                  type=\"integer\",\n",
    "                                  description=\"路线数，即旅行天数，默认为3天。\")\n",
    "\n",
    "# 定义起始点的响应方案\n",
    "start_end_poi_schema = ResponseSchema(name=\"start_end_poi\",\n",
    "                                      type=\"string\",\n",
    "                                      description=\"单路线起始点（酒店），默认为null，用户可指定修改。\")\n",
    "\n",
    "# 定义每天开始时间的响应方案\n",
    "start_day_time_schema = ResponseSchema(name=\"start_day_time\",\n",
    "                                       type=\"string\",\n",
    "                                       description=\"每天的开始时间，默认为09:00:00。根据需要设定更早或更晚的时间，以适应休闲或紧凑的旅游风格。\")\n",
    "\n",
    "# 定义单条路线最大时间的响应方案\n",
    "max_time_schema = ResponseSchema(name=\"plan_max_time\",\n",
    "                                 type=\"integer\",\n",
    "                                 description=\"单条路线最大时间，默认为12小时。根据需要调整时间长度，适应更休闲或更紧凑的旅行计划。\")\n",
    "\n",
    "# 定义紧凑度权重的响应方案\n",
    "tightness_weight_schema = ResponseSchema(name=\"tightness_w\",\n",
    "                                         type=\"float\",\n",
    "                                         description=\"紧凑度权重，设置在0.5至1.5之间。根据用户需求调整，更高值适合休闲体验，较低值适合紧凑旅行。\")\n",
    "\n",
    "# 定义用户预算的响应方案\n",
    "user_budget_schema = ResponseSchema(name=\"user_budget\",\n",
    "                                    type=\"float\",\n",
    "                                    description=\"用户预算，以1e9为默认值，表示没有预算限制。\")\n",
    "\n",
    "# 定义用户不考虑的POI列表的响应方案\n",
    "not_poi_list_schema = ResponseSchema(name=\"not_poi_list\",\n",
    "                                     type=\"list[string]\",\n",
    "                                     description=\"用户不考虑访问的POI列表，根据个人偏好排除某些POI，默认为空列表。\")\n",
    "\n",
    "# 将所有方案添加到列表中\n",
    "response_schemas = [\n",
    "    min_visits_schema, max_visits_schema, min_restaurant_gap_schema,\n",
    "    mandatory_pois_schema, route_num_schema, start_end_poi_schema,\n",
    "    start_day_time_schema, max_time_schema, tightness_weight_schema,\n",
    "    user_budget_schema, not_poi_list_schema\n",
    "]\n",
    "\n",
    "# 创建一个结构化输出解析器\n",
    "output_parser = StructuredOutputParser.from_response_schemas(response_schemas)\n",
    "\n",
    "# 获取并打印格式化指令\n",
    "format_instructions = output_parser.get_format_instructions()\n",
    "print(format_instructions)"
   ],
   "metadata": {
    "collapsed": false,
    "ExecuteTime": {
     "end_time": "2024-08-12T08:23:38.728477100Z",
     "start_time": "2024-08-12T08:23:38.639365100Z"
    }
   },
   "id": "4725c4e25c4b1976",
   "execution_count": 4
  },
  {
   "cell_type": "code",
   "outputs": [],
   "source": [
    "messages = [\n",
    "    AIMessage(content=\"你好\"),\n",
    "    SystemMessage(content=f\"你是一个人类语言与行程规划算法之间的翻译者，能够专业理解提取用户的旅行偏好并对应到算法的输入上，你的工作是根据你的知识一次理解用户的需求（不可询问额外信息），根据单轮用户的需求给出合理的函数输入参数，所有POI均需要给出完整准确的信息，不能缩写，使用中文，输出不能包含任何注释。\\n {format_instructions}\"),\n",
    "    HumanMessage(content=\"我的两天春季计划包括游览五大道，体验海河的风光和春天的氛围。\"),\n",
    "]"
   ],
   "metadata": {
    "collapsed": false,
    "ExecuteTime": {
     "end_time": "2024-08-12T08:23:38.744467500Z",
     "start_time": "2024-08-12T08:23:38.731467400Z"
    }
   },
   "id": "ba6c35989151b22b",
   "execution_count": 5
  },
  {
   "cell_type": "code",
   "outputs": [
    {
     "name": "stdout",
     "output_type": "stream",
     "text": [
      "content='```json\\n{\\n\\t\"N_c_min\": [1, 2, 1],\\n\\t\"N_c_max\": [5, 3, 2],\\n\\t\"use_min_restaurant_gap\": 2.5,\\n\\t\"poi_id_list\": [\"五大道\", \"海河\"],\\n\\t\"route_num\": 2,\\n\\t\"start_end_poi\": null,\\n\\t\"start_day_time\": \"09:00:00\",\\n\\t\"plan_max_time\": 10,\\n\\t\"tightness_w\": 1.0,\\n\\t\"user_budget\": 1e9,\\n\\t\"not_poi_list\": []\\n}\\n```' response_metadata={'token_usage': {'completion_tokens': 129, 'prompt_tokens': 565, 'total_tokens': 694}, 'model_name': 'glm-4-air', 'finish_reason': 'stop'} id='run-ba571ab6-cdd0-4d3e-84a0-88ed80cef543-0'\n",
      "```json\n",
      "{\n",
      "\t\"N_c_min\": [1, 2, 1],\n",
      "\t\"N_c_max\": [5, 3, 2],\n",
      "\t\"use_min_restaurant_gap\": 2.5,\n",
      "\t\"poi_id_list\": [\"五大道\", \"海河\"],\n",
      "\t\"route_num\": 2,\n",
      "\t\"start_end_poi\": null,\n",
      "\t\"start_day_time\": \"09:00:00\",\n",
      "\t\"plan_max_time\": 10,\n",
      "\t\"tightness_w\": 1.0,\n",
      "\t\"user_budget\": 1e9,\n",
      "\t\"not_poi_list\": []\n",
      "}\n",
      "```\n"
     ]
    }
   ],
   "source": [
    "response = chat.invoke(messages)\n",
    "print(response)\n",
    "print(response.content)"
   ],
   "metadata": {
    "collapsed": false,
    "ExecuteTime": {
     "end_time": "2024-08-12T08:23:41.885355300Z",
     "start_time": "2024-08-12T08:23:38.745468700Z"
    }
   },
   "id": "9f6cc43c71cab3ae",
   "execution_count": 6
  },
  {
   "cell_type": "code",
   "outputs": [
    {
     "data": {
      "text/plain": "{'N_c_min': [1, 2, 1],\n 'N_c_max': [5, 3, 2],\n 'use_min_restaurant_gap': 2.5,\n 'poi_id_list': ['五大道', '海河'],\n 'route_num': 2,\n 'start_end_poi': None,\n 'start_day_time': '09:00:00',\n 'plan_max_time': 10,\n 'tightness_w': 1.0,\n 'user_budget': 1000000000.0,\n 'not_poi_list': []}"
     },
     "execution_count": 7,
     "metadata": {},
     "output_type": "execute_result"
    }
   ],
   "source": [
    "output_dict = output_parser.parse(response.content)\n",
    "output_dict"
   ],
   "metadata": {
    "collapsed": false,
    "ExecuteTime": {
     "end_time": "2024-08-12T08:23:41.902336800Z",
     "start_time": "2024-08-12T08:23:41.883341300Z"
    }
   },
   "id": "25ed94e502989638",
   "execution_count": 7
  },
  {
   "cell_type": "code",
   "outputs": [],
   "source": [
    "import dataset_config as dataset_config\n",
    "\n",
    "dataConfig = dataset_config.DatasetConfig()\n",
    "\n",
    "database = dataConfig.database\n",
    "poi_dict = dataConfig.poi_dict\n",
    "database_function = dataConfig.database_func\n",
    "poi_cate_dict = dataConfig.poi_cate_dict\n",
    "\n",
    "def getIdsbyNames(poi_name_list:list[str], poi_cate:str):\n",
    "    database.connect()\n",
    "    poi_name_list = ','.join(poi_name_list)\n",
    "    poi_list = database_function['getIdbyName'](poi_name_list, poi_cate_dict[poi_cate])\n",
    "    poi_id_list = [i[0] for i in poi_list]\n",
    "    poi_id_list = list(set(poi_id_list))\n",
    "    database.close()\n",
    "    return poi_id_list"
   ],
   "metadata": {
    "collapsed": false,
    "ExecuteTime": {
     "end_time": "2024-08-12T08:28:09.769524400Z",
     "start_time": "2024-08-12T08:28:09.587389900Z"
    }
   },
   "id": "495cffa0037009ee",
   "execution_count": 12
  },
  {
   "cell_type": "code",
   "outputs": [
    {
     "name": "stdout",
     "output_type": "stream",
     "text": [
      "[[[1035, 2, '如家商旅酒店(天津五大道游客中心外国语大学店)', '天津', 4.8, '￥472', 39.115555, 117.21031, 0, 29, '位置交通 位置很好,房间床品也很干净,五大道里面', '{\"名称\":\"如家商旅酒店(天津五大道游客中心外国语大学店)\",\"分数\":4.8,\"人气排名\":6,\"图片链接\":\"https:\\\\/\\\\/userimg.qunarzz.com\\\\/imgs\\\\/202404\\\\/27\\\\/C.UecTTSvVlVYWeQZgs720.jpg\",\"简介\":\"位置交通 位置很好,房间床品也很干净,五大道里面\",\"地址\":\"舒适型|天津和平区睦南道72号\",\"经度\":117.210309,\"纬度\":39.115554,\"价格\":null,\"点评数量\":29}', '0101000020E61000007C43E1B3754D5D4004763579CA8E4340', '舒适型|天津和平区睦南道72号', [0, None], [86340, None], 0, [0, None], [86340, None]], [8, 0, '五大道', '天津', 4.6, '五大道位于天津和平区，以区域内五个主要的道路命名，实际有二十多条街道。清朝遗老、北洋政府里很多官员名流都曾在这里寓居，一栋栋优美典雅的洋房仿佛在诉说着津门曾经的风云故事。\\n\\n五大道总述目前来到五大道游览，主要就是观看街道上2000多所花园式的欧式建筑，其中名人故居就有三百多处，张学良、顾维钧、爱新觉罗载振等众多清末民初的名流都在这里留下了名字。这里的建筑整体是欧式，但形式多样各有特色。街区优雅浪漫，不少影视剧组来此取景，拍婚纱照的也爱把五大道的小洋房当背景。\\n游玩方式初到五大道，如果摸不清东南西北，可以先到长沙路101号的民园广场，看看曾经的欧式体育馆，这里也相当于是五大道的集散中心。广场附近的游客中心里，可以拿一份地图（也有付费购买的更清晰版），上面标注了五大道很多故居、建筑的所在地，根据地图参观游玩即可。\\n参观重点五大道内，很多的景点值得参观。疙瘩楼在河北路，墙上一粒一粒烧过火的砖形成的疙瘩已经十分特别，而且还是一座瓷片贴满的洋房；马场道117号的天津外国语学院是电视剧《金粉世家》的取景地；清朝庆亲王载振的公馆建筑中西合璧，在重庆道；蔡成勋故居是五大道的中式建筑，在这里显得十分特别，位于大理道；同样在大理道的睦南公园每年春天都有鲜花开放，给游人带来惊喜。', 39.11149, 117.2035, 3600, 3448, '众多风云人物的寓居之处，在栋栋洋房之间看旧日津门缩影。', '{\"id\":78308,\"basicInfo.id\":78308,\"basicInfo.productTypeName\":\"poi\",\"basicInfo.detailUrl.URL\":\"https:\\\\/\\\\/you.ctrip.com\\\\/sight\\\\/tianjin154\\\\/10672.html\",\"basicInfo.name\":\"静园\",\"basicInfo.mainName\":\"静园\",\"basicInfo.subName\":\"滨江道\\\\/小白楼\\\\/五大道度假区\",\"basicInfo.level\":null,\"basicInfo.isFavorite\":false,\"basicInfo.mediaInfo.images.url\":\"https:\\\\/\\\\/dimg04.c-ctrip.com\\\\/images\\\\/fd\\\\/tg\\\\/g6\\\\/M01\\\\/88\\\\/B6\\\\/CggYtFcEt2CALJEQAAFgkLi3pnw435_C_568_320_Q80.jpg\",\"basicInfo.mediaInfo.videoUrls.PlayUrl\":\"https:\\\\/\\\\/video.c-ctrip.com\\\\/videos\\\\/K7061o000001hyni57268.mp4?ts=1610350158609\",\"basicInfo.statusInfo.isOnline\":true,\"basicInfo.statusInfo.isActive\":true,\"basicInfo.statusInfo.isCanSale\":true,\"basicInfo.extras.PoiExtra_DISTANCE\":2301.4308676181,\"basicInfo.extras.PoiExtra_CITYNAME\":\"天津\",\"basicInfo.extras.front_tag_name\":\"景点\",\"basicInfo.extras.PoiExtra_SIGHTID\":10672,\"basicInfo.extras.PoiExtra_DISTANCE_DESC\":\"距市中心2.4km\",\"basicInfo.extras.PoiExtra_SHORTFEATURE\":\"末代皇帝溥仪的故居\",\"basicInfo.extras.TOS\":\"tkt\",\"basicInfo.extras.poiId\":78308,\"priceInfo.price\":20.0,\"priceInfo.discountPrice\":0.0,\"priceInfo.originalPrice\":20.0,\"priceInfo.isFree\":false,\"priceInfo.displayPriceType\":2,\"priceInfo.preferentialAmount\":0.0,\"priceInfo.marketDiscountPrice\":null,\"statistics.commentInfo.score\":4.7,\"statistics.commentInfo.count\":3110.0,\"statistics.commentInfo.tags\":\"3,110 reviews\",\"statistics.rankingInfo.ranking\":8.0,\"statistics.rankingInfo.description\":\"天津必打卡景点榜 No.8\",\"statistics.hotScoreInfo.desc\":6.8,\"basicInfo.extras.PoiExtra_PLAYSPOTINFO_COUNT\":null,\"basicInfo.extras.PoiExtra_PLAYSPOTINFO\":null,\"statistics.rankingInfo.type\":null,\"tagGroups.tags.tagImage\":null,\"basicInfo.extras.PoiExtra_OPENTIMEDESC\":null,\"tagGroups.groupCode\":\"[\\'VIEW_TAG\\', \\'CATEGORY_THEME_TAG\\', \\'PRODUCT_TAG\\', \\'FRONT_NAME_TAG\\']\",\"tagGroups.tags.tagId\":\"[0.0, 291.0, nan]\",\"tagGroups.tags.tagName\":\"[\\'Ticket2\\', \\'名人故居\\', \\'可订明日\\', \\'随时退\\', \\'景点\\']\",\"tagGroups.tags.tagType\":\"[\\'\\', \\'Tag\\', \\'booking\\', nan]\",\"tagGroups.tags.tagTitle\":\"[\\'\\', nan]\",\"tagGroups.tags.tagCode\":\"[\\'Ticket2\\', \\'0\\', \\'TomorrowCanBook\\', \\'RefundAtAnyTime\\', nan]\",\"address\":\"和平区鞍山道70号（鞍山道与甘肃路交口，鞍山道小学对面）\",\"GCJ02_lat\":39.123259,\"GCJ02_lon\":117.189288,\"BD09_lat\":39.12895,\"BD09_lon\":117.195894,\"openTime\":\"09:00-17:30开放（17:00停止入园）\"}', '0101000020E610000062F54718064D5D40BFF2203D458E4340', '天津市和平区成都道以南，马场道以北，西康路以东，马场道与南京路交口以西的一片长方形地区', [0], [86340], 0, [0, None], [86340, None]], [46, 0, '五大道小洋楼', '天津', 4.8, '历史给天津留下了近千幢精美的小洋楼，走在天津的街道上，沿途小洋楼的古旧韵味很引人入胜，英式、法式、俄式、意式、德式……各种不同建筑风格的建筑物争奇斗艳。小洋楼大多集中在五大道上，建筑风格各异，造型美观，装饰考究。', 39.110275, 117.19739, 10800, 52, 'nan', '{\"id\":57153377,\"basicInfo.id\":57153377,\"basicInfo.productTypeName\":\"poi\",\"basicInfo.detailUrl.URL\":\"https:\\\\/\\\\/you.ctrip.com\\\\/sight\\\\/tianjin154\\\\/5100539.html\",\"basicInfo.name\":\"津游一号仿古铛铛车\",\"basicInfo.mainName\":\"津游一号仿古铛铛车\",\"basicInfo.subName\":\"天津站\\\\/古文化街\\\\/意大利风情区\",\"basicInfo.level\":null,\"basicInfo.isFavorite\":false,\"basicInfo.mediaInfo.images.url\":\"https:\\\\/\\\\/dimg04.c-ctrip.com\\\\/images\\\\/100t12000000s02bj148E_C_568_320_Q80.jpg\",\"basicInfo.mediaInfo.videoUrls.PlayUrl\":\"https:\\\\/\\\\/video.c-ctrip.com\\\\/videos\\\\/K70r1k000001hvrcl5D20.mp4\",\"basicInfo.statusInfo.isOnline\":true,\"basicInfo.statusInfo.isActive\":true,\"basicInfo.statusInfo.isCanSale\":true,\"basicInfo.extras.PoiExtra_DISTANCE\":1668.8484922305,\"basicInfo.extras.PoiExtra_CITYNAME\":\"天津\",\"basicInfo.extras.front_tag_name\":\"景点\",\"basicInfo.extras.PoiExtra_SIGHTID\":5100539,\"basicInfo.extras.PoiExtra_DISTANCE_DESC\":\"距市中心1.7km\",\"basicInfo.extras.PoiExtra_SHORTFEATURE\":null,\"basicInfo.extras.TOS\":\"tkt\",\"basicInfo.extras.poiId\":57153377,\"priceInfo.price\":40.0,\"priceInfo.discountPrice\":0.0,\"priceInfo.originalPrice\":0.0,\"priceInfo.isFree\":false,\"priceInfo.displayPriceType\":2,\"priceInfo.preferentialAmount\":0.0,\"priceInfo.marketDiscountPrice\":null,\"statistics.commentInfo.score\":4.5,\"statistics.commentInfo.count\":37.0,\"statistics.commentInfo.tags\":\"37 reviews\",\"statistics.rankingInfo.ranking\":null,\"statistics.rankingInfo.description\":null,\"statistics.hotScoreInfo.desc\":4.9,\"basicInfo.extras.PoiExtra_PLAYSPOTINFO_COUNT\":null,\"basicInfo.extras.PoiExtra_PLAYSPOTINFO\":null,\"statistics.rankingInfo.type\":null,\"tagGroups.tags.tagImage\":null,\"basicInfo.extras.PoiExtra_OPENTIMEDESC\":null,\"tagGroups.groupCode\":\"[\\'VIEW_TAG\\', \\'CATEGORY_THEME_TAG\\', \\'PRODUCT_TAG\\', \\'FRONT_NAME_TAG\\']\",\"tagGroups.tags.tagId\":\"[0.0, 1150069.0, nan]\",\"tagGroups.tags.tagName\":\"[\\'Ticket2\\', \\'巴士观光\\', \\'随买随用\\', \\'可订今日\\', \\'随时退\\', \\'景点\\']\",\"tagGroups.tags.tagType\":\"[\\'\\', \\'Tag\\', \\'booking\\', nan]\",\"tagGroups.tags.tagTitle\":\"[\\'\\', nan]\",\"tagGroups.tags.tagCode\":\"[\\'Ticket2\\', \\'0\\', \\'ReadyToUse\\', \\'TodayCanBook\\', \\'RefundAtAnyTime\\', nan]\",\"address\":\"天津市和平区松江路津湾广场\",\"GCJ02_lat\":39.13151,\"GCJ02_lon\":117.209606,\"BD09_lat\":39.137121,\"BD09_lon\":117.214474,\"openTime\":\"09:15-18:15开放\"}', '0101000020E61000009561DC0DA24C5D40AFCC5B751D8E4340', '天津市和平区体育馆街五大道', [0], [86340], 0, [0, None], [86340, None]], [460, 1, '大鹅经典俄式西餐', '天津', 4.8, '环境优雅小资的西餐厅，主打俄罗斯菜。', 39.11051, 117.1946, 3600, 9, '西餐', '{\"RestaurantId\":16067428,\"PoiId\":31632606,\"parentId\":0,\"parentHotelDesc\":null,\"parentHotelName\":null,\"parentHotelDescSuffix\":null,\"Name\":\"大鹅经典俄式西餐\",\"DistrictId\":154,\"Lat\":39.110511,\"Lon\":117.194601,\"GGCoord.Lat\":39.110511,\"GGCoord.Lng\":117.194601,\"MeiShiLinTagName\":null,\"BCoord.Lat\":39.1162542,\"BCoord.Lng\":117.2011766,\"ImageUrl\":\"https:\\\\/\\\\/dimg04.c-ctrip.com\\\\/images\\\\/100k0u000000jhq7d5532_D_300_300_Q50.jpg?proc=autoorient\",\"AveragePrice\":132.0,\"CurrencyUnit\":\"RMB\",\"CommentScore\":4.8,\"CommentCount\":9,\"DistanceNum\":1.8875592157,\"IsBook\":false,\"IsHaveProduct\":false,\"IsPromotion\":false,\"RecommandType\":1,\"ImageUrl2\":\"https:\\\\/\\\\/dimg04.c-ctrip.com\\\\/images\\\\/100k0u000000jhq7d5532_D_100_100_Q90.jpg?proc=autoorient\",\"Feature\":\"环境优雅小资的西餐厅，主打俄罗斯菜。\",\"ShiMeiLinName\":null,\"ShiMeiLinType\":0,\"IsHaveHotelProduct\":false,\"LandmarkName\":\"近五大道\",\"LandmarkDistance\":\"812m\",\"MeiShiLinChainTypeName\":null,\"OpenStatus\":\"暂停营业\",\"ZoneName\":null,\"InChina\":true,\"IsOversea\":false,\"CuisineName\":\"西餐\",\"DistrictCentreDistance\":\"1.8km\",\"IsSupportQueue\":false,\"DistanceDesc\":\"距市中心1.8km\",\"InDistrict\":true,\"Coupon\":null,\"IsFavourite\":false,\"BigRankingNo\":null,\"SmallRankingNo\":null,\"UgcComment\":\"【美食攻略】经典俄餐～大鹅西餐厅\",\"IsHaveVideo\":false,\"GrouponDesc\":null,\"IsAdv\":false,\"Rankings.imageUrl\":null,\"Rankings.HybridUrl\":null,\"Rankings.gourmetlistType\":null,\"Rankings.reason\":null,\"Rankings.rankingId\":null,\"Rankings.sortNo\":null,\"gourmetlistYear\":null,\"PackageInfos.Type\":null,\"PackageInfos.PackageName\":null,\"PackageInfos.H5Url\":null,\"PackageInfos.CouponId\":null,\"UgcCommentList\":\"[\\'【罐焖牛肉】俄式传统菜第一位重要的\\', \\'大鹅西餐厅就在云南路和贵州路交口\\', \\'过去所有西餐厅都要下功夫的菜品\\', \\'【大鹅经典俄式西餐】\\', \\'【美食攻略】经典俄餐～大鹅西餐厅\\']\",\"Rankings.type\":\"[\\'\\']\",\"Rankings.title\":\"[\\'\\']\",\"Rankings.year\":\"[\\'\\']\",\"Rankings.H5Url\":\"[\\'\\']\",\"TagNameList\":\"[\\'\\']\"}', '0101000020E610000036B1C057744C5D40946C7539258E4340', '距市中心1.8km', [37800], [55800], 0, [37800, 59400], [55800, 81000]], [52, 0, '海河文化广场', '天津', 4.6, '海河文化广场是海河两岸综合开发改造重要工程之一，该广场位于海河狮子林桥与金汤桥之间，因毗邻古文化街而得名。\\n广场一部分为突出水面的大平台，另一部分为下沉路顶部大平台，包括古文化街和下沉路之间的路面。两平台高由台阶连接，形成不同层次的平台结构形式。广场体现了一种古朴、厚重的美，并以古文化街为依托，结合现代建筑艺术风格，充分利用灯光景观效果，实现了历史文化的发扬和创新。', 39.131424, 117.19898, 3600, 152, 'nan', '{\"id\":10553258,\"basicInfo.id\":10553258,\"basicInfo.productTypeName\":\"poi\",\"basicInfo.detailUrl.URL\":\"https:\\\\/\\\\/you.ctrip.com\\\\/sight\\\\/tianjin154\\\\/112822.html\",\"basicInfo.name\":\"九山顶自然风景区\",\"basicInfo.mainName\":\"九山顶自然风景区\",\"basicInfo.subName\":\"梨木台\\\\/九山顶度假区\",\"basicInfo.level\":null,\"basicInfo.isFavorite\":false,\"basicInfo.mediaInfo.images.url\":\"https:\\\\/\\\\/dimg04.c-ctrip.com\\\\/images\\\\/01026120009g82v15AD69_C_568_320_Q80.jpg\",\"basicInfo.mediaInfo.videoUrls.PlayUrl\":null,\"basicInfo.statusInfo.isOnline\":true,\"basicInfo.statusInfo.isActive\":true,\"basicInfo.statusInfo.isCanSale\":true,\"basicInfo.extras.PoiExtra_DISTANCE\":125376.2428507206,\"basicInfo.extras.PoiExtra_CITYNAME\":\"天津\",\"basicInfo.extras.front_tag_name\":\"景点\",\"basicInfo.extras.PoiExtra_SIGHTID\":112822,\"basicInfo.extras.PoiExtra_DISTANCE_DESC\":\"距市中心125.4km\",\"basicInfo.extras.PoiExtra_SHORTFEATURE\":\"体验山里人的闲适生活\",\"basicInfo.extras.TOS\":\"tkt\",\"basicInfo.extras.poiId\":10553258,\"priceInfo.price\":70.0,\"priceInfo.discountPrice\":0.0,\"priceInfo.originalPrice\":75.0,\"priceInfo.isFree\":false,\"priceInfo.displayPriceType\":2,\"priceInfo.preferentialAmount\":0.0,\"priceInfo.marketDiscountPrice\":5.0,\"statistics.commentInfo.score\":4.2,\"statistics.commentInfo.count\":367.0,\"statistics.commentInfo.tags\":\"367 reviews\",\"statistics.rankingInfo.ranking\":null,\"statistics.rankingInfo.description\":null,\"statistics.hotScoreInfo.desc\":3.6,\"basicInfo.extras.PoiExtra_PLAYSPOTINFO_COUNT\":null,\"basicInfo.extras.PoiExtra_PLAYSPOTINFO\":null,\"statistics.rankingInfo.type\":null,\"tagGroups.tags.tagImage\":null,\"basicInfo.extras.PoiExtra_OPENTIMEDESC\":null,\"tagGroups.groupCode\":\"[\\'VIEW_TAG\\', \\'CATEGORY_THEME_TAG\\', \\'PRODUCT_TAG\\', \\'FRONT_NAME_TAG\\']\",\"tagGroups.tags.tagId\":\"[0.0, 66026.0, 824032.0, nan]\",\"tagGroups.tags.tagName\":\"[\\'Ticket2\\', \\'海滨玩水\\', \\'登高爬山\\', \\'可订明日\\', \\'随时退\\', \\'景点\\']\",\"tagGroups.tags.tagType\":\"[\\'\\', \\'Tag\\', \\'booking\\', nan]\",\"tagGroups.tags.tagTitle\":\"[\\'\\', nan]\",\"tagGroups.tags.tagCode\":\"[\\'Ticket2\\', \\'0\\', \\'TomorrowCanBook\\', \\'RefundAtAnyTime\\', nan]\",\"address\":\"天津市蓟县下营镇常州村\",\"GCJ02_lat\":40.220982,\"GCJ02_lon\":117.51336,\"BD09_lat\":40.226911,\"BD09_lon\":117.519898,\"openTime\":\"08:00-17:30开放（17:00停止入园）\"}', '0101000020E6100000705D3123BC4C5D403B70CE88D2904340', '天津市河北区海河中心广场公园内', [0], [86340], 0, [0, None], [86340, None]], [31, 0, '解放桥', '天津', 4.6, '天津解放桥又称万国桥，建于1927年,天津市的标志性建筑之一，也是海河跨桥中一座可开启的桥。解放桥连接着河北区的世纪钟广场与和平区的解放北路，位于天津火车站与解放北路之间的海河上，是一座全钢结构可开启的桥梁。', 39.132954, 117.20607, 1800, 299, '解放桥见证了天津历史，是目前海河跨桥仅剩的一座可开启的桥。', '{\"id\":10553265,\"basicInfo.id\":10553265,\"basicInfo.productTypeName\":\"poi\",\"basicInfo.detailUrl.URL\":\"https:\\\\/\\\\/you.ctrip.com\\\\/sight\\\\/tianjin154\\\\/112830.html\",\"basicInfo.name\":\"中华石园\",\"basicInfo.mainName\":\"中华石园\",\"basicInfo.subName\":\"新国家会展中心\\\\/津南大学城\",\"basicInfo.level\":null,\"basicInfo.isFavorite\":false,\"basicInfo.mediaInfo.images.url\":\"https:\\\\/\\\\/dimg04.c-ctrip.com\\\\/images\\\\/0106d12000athgzrwD57A_C_568_320_Q80.jpg\",\"basicInfo.mediaInfo.videoUrls.PlayUrl\":null,\"basicInfo.statusInfo.isOnline\":true,\"basicInfo.statusInfo.isActive\":true,\"basicInfo.statusInfo.isCanSale\":true,\"basicInfo.extras.PoiExtra_DISTANCE\":9855.402362978,\"basicInfo.extras.PoiExtra_CITYNAME\":\"天津\",\"basicInfo.extras.front_tag_name\":\"景点\",\"basicInfo.extras.PoiExtra_SIGHTID\":112830,\"basicInfo.extras.PoiExtra_DISTANCE_DESC\":\"距市中心9.9km\",\"basicInfo.extras.PoiExtra_SHORTFEATURE\":null,\"basicInfo.extras.TOS\":\"tkt\",\"basicInfo.extras.poiId\":10553265,\"priceInfo.price\":20.0,\"priceInfo.discountPrice\":0.0,\"priceInfo.originalPrice\":99.0,\"priceInfo.isFree\":false,\"priceInfo.displayPriceType\":2,\"priceInfo.preferentialAmount\":0.0,\"priceInfo.marketDiscountPrice\":79.0,\"statistics.commentInfo.score\":4.4,\"statistics.commentInfo.count\":109.0,\"statistics.commentInfo.tags\":\"109 reviews\",\"statistics.rankingInfo.ranking\":null,\"statistics.rankingInfo.description\":null,\"statistics.hotScoreInfo.desc\":4.8,\"basicInfo.extras.PoiExtra_PLAYSPOTINFO_COUNT\":null,\"basicInfo.extras.PoiExtra_PLAYSPOTINFO\":null,\"statistics.rankingInfo.type\":null,\"tagGroups.tags.tagImage\":null,\"basicInfo.extras.PoiExtra_OPENTIMEDESC\":null,\"tagGroups.groupCode\":\"[\\'VIEW_TAG\\', \\'CATEGORY_THEME_TAG\\', \\'PRODUCT_TAG\\', \\'FRONT_NAME_TAG\\']\",\"tagGroups.tags.tagId\":\"[0.0, 289.0, nan]\",\"tagGroups.tags.tagName\":\"[\\'Ticket2\\', \\'园林花园\\', \\'可订明日\\', \\'随时退\\', \\'景点\\']\",\"tagGroups.tags.tagType\":\"[\\'\\', \\'Tag\\', \\'booking\\', nan]\",\"tagGroups.tags.tagTitle\":\"[\\'\\', nan]\",\"tagGroups.tags.tagCode\":\"[\\'Ticket2\\', \\'0\\', \\'TomorrowCanBook\\', \\'RefundAtAnyTime\\', nan]\",\"address\":\"天津市津南区微山路与外环线交口\",\"GCJ02_lat\":39.042588,\"GCJ02_lon\":117.276574,\"BD09_lat\":39.048473,\"BD09_lon\":117.283129,\"openTime\":\"08:30-18:00开放\"}', '0101000020E61000002330D637304D5D400AF8359204914340', '天津市和平区解放北路与张自忠路交口', [0], [86340], 0, [0, None], [86340, None]], [227, 1, 'La Fleur用心(和平店)', '天津', 4.7, '鲜花环绕装潢温馨浪漫，特色西餐风味独具', 39.11637, 117.20924, 3600, 11, '西餐', '{\"RestaurantId\":22547784,\"PoiId\":57224935,\"parentId\":0,\"parentHotelDesc\":null,\"parentHotelName\":null,\"parentHotelDescSuffix\":null,\"Name\":\"La Fleur用心(和平店)\",\"DistrictId\":154,\"Lat\":39.1163702,\"Lon\":117.2092409,\"GGCoord.Lat\":39.1163702,\"GGCoord.Lng\":117.2092409,\"MeiShiLinTagName\":\"美食林榜单\",\"BCoord.Lat\":39.122355,\"BCoord.Lng\":117.215742,\"ImageUrl\":\"https:\\\\/\\\\/dimg04.c-ctrip.com\\\\/images\\\\/100d1f000001glrurC38B_D_300_300_Q50.jpg?proc=autoorient\",\"AveragePrice\":178.0,\"CurrencyUnit\":\"RMB\",\"CommentScore\":4.7,\"CommentCount\":11,\"DistanceNum\":0.4831443807,\"IsBook\":false,\"IsHaveProduct\":false,\"IsPromotion\":false,\"RecommandType\":1,\"ImageUrl2\":\"https:\\\\/\\\\/dimg04.c-ctrip.com\\\\/images\\\\/100d1f000001glrurC38B_D_100_100_Q90.jpg?proc=autoorient\",\"Feature\":\"鲜花环绕装潢温馨浪漫，特色西餐风味独具\",\"ShiMeiLinName\":\"金牌\",\"ShiMeiLinType\":4,\"IsHaveHotelProduct\":false,\"LandmarkName\":\"近庆王府\",\"LandmarkDistance\":\"347m\",\"MeiShiLinChainTypeName\":null,\"OpenStatus\":null,\"ZoneName\":\"滨江道\\\\/小白楼\\\\/五大道度假区\",\"InChina\":true,\"IsOversea\":false,\"CuisineName\":\"西餐\",\"DistrictCentreDistance\":\"483m\",\"IsSupportQueue\":false,\"DistanceDesc\":\"距市中心483m\",\"InDistrict\":true,\"Coupon\":null,\"IsFavourite\":false,\"BigRankingNo\":\"2023美食林榜单\",\"SmallRankingNo\":null,\"UgcComment\":\"百香果思慕雪^冰沙饮品，卖相和味道都不错\",\"IsHaveVideo\":false,\"GrouponDesc\":null,\"IsAdv\":false,\"Rankings.imageUrl\":\"https:\\\\/\\\\/dimg04.c-ctrip.com\\\\/images\\\\/0106r12000bda3pdmFCA2.png\",\"Rankings.HybridUrl\":null,\"Rankings.gourmetlistType\":4.0,\"Rankings.reason\":null,\"Rankings.rankingId\":null,\"Rankings.sortNo\":null,\"gourmetlistYear\":2023.0,\"PackageInfos.Type\":null,\"PackageInfos.PackageName\":null,\"PackageInfos.H5Url\":null,\"PackageInfos.CouponId\":null,\"UgcCommentList\":\"[\\'百香果思慕雪^冰沙饮品，卖相和味道都不错\\', \\'百香果思慕雪^冰沙饮品\\', \\'印象被鲜花萦绕心头西餐厅\\', \\'营养特别丰富\\']\",\"Rankings.type\":\"[1]\",\"Rankings.title\":\"[\\'金牌\\']\",\"Rankings.year\":\"[2023.0]\",\"Rankings.H5Url\":\"[\\'https:\\\\/\\\\/m.ctrip.com\\\\/webapp\\\\/gourmet\\\\/food\\\\/finalists\\\\/154.html?seo=0&isHideNavBar=YES&ishideheader=true&restaurantId=22547784&tabId=1\\']\",\"TagNameList\":\"[\\'景观餐厅\\', \\'Brunch\\']\"}', '0101000020E6100000149FF133644D5D404F9DFD37E58E4340', '距市中心483m', [59400], [81000], 0, [37800, 59400], [55800, 81000]], [228, 1, '华竹食府(南海路店)', '天津', 4.5, '老式国营餐馆风格，主打改良版天津菜', 39.114384, 117.20721, 3600, 44, '其他中餐', '{\"RestaurantId\":5361350,\"PoiId\":11511821,\"parentId\":0,\"parentHotelDesc\":null,\"parentHotelName\":null,\"parentHotelDescSuffix\":null,\"Name\":\"华竹食府(南海路店)\",\"DistrictId\":154,\"Lat\":39.1143827,\"Lon\":117.2072105,\"GGCoord.Lat\":39.1143827,\"GGCoord.Lng\":117.2072105,\"MeiShiLinTagName\":\"美食林榜单\",\"BCoord.Lat\":39.1203299,\"BCoord.Lng\":117.213722,\"ImageUrl\":\"https:\\\\/\\\\/dimg04.c-ctrip.com\\\\/images\\\\/0105x120008c5op3zA3A4_D_300_300_Q50.jpg?proc=autoorient\",\"AveragePrice\":80.0,\"CurrencyUnit\":\"RMB\",\"CommentScore\":4.5,\"CommentCount\":44,\"DistanceNum\":0.7183269294,\"IsBook\":false,\"IsHaveProduct\":false,\"IsPromotion\":false,\"RecommandType\":1,\"ImageUrl2\":\"https:\\\\/\\\\/dimg04.c-ctrip.com\\\\/images\\\\/0105x120008c5op3zA3A4_D_100_100_Q90.jpg?proc=autoorient\",\"Feature\":\"老式国营餐馆风格，主打改良版天津菜\",\"ShiMeiLinName\":\"银牌\",\"ShiMeiLinType\":5,\"IsHaveHotelProduct\":false,\"LandmarkName\":\"近庆王府\",\"LandmarkDistance\":\"128m\",\"MeiShiLinChainTypeName\":null,\"OpenStatus\":null,\"ZoneName\":\"滨江道\\\\/小白楼\\\\/五大道度假区\",\"InChina\":true,\"IsOversea\":false,\"CuisineName\":\"其他中餐\",\"DistrictCentreDistance\":\"718m\",\"IsSupportQueue\":false,\"DistanceDesc\":\"距市中心718m\",\"InDistrict\":true,\"Coupon\":null,\"IsFavourite\":false,\"BigRankingNo\":\"2023美食林榜单\",\"SmallRankingNo\":\"美景体验餐厅榜\",\"UgcComment\":\"栗子白菜也很有特色\",\"IsHaveVideo\":false,\"GrouponDesc\":null,\"IsAdv\":false,\"Rankings.imageUrl\":\"https:\\\\/\\\\/dimg04.c-ctrip.com\\\\/images\\\\/0105a12000bda3ml12F6D.png\",\"Rankings.HybridUrl\":null,\"Rankings.gourmetlistType\":5.0,\"Rankings.reason\":null,\"Rankings.rankingId\":null,\"Rankings.sortNo\":null,\"gourmetlistYear\":2023.0,\"PackageInfos.Type\":null,\"PackageInfos.PackageName\":null,\"PackageInfos.H5Url\":null,\"PackageInfos.CouponId\":null,\"UgcCommentList\":\"[\\'金蒜子牛肉粒，一秒变空盘，迅速抢光\\', \\'四季烤麸也是甜口的有好彩头的菜每次都点\\', \\'四季烤麸也是甜口的有好彩头的菜\\', \\'土豆沙拉和黑椒牛肉是非常好hi的\\', \\'栗子白菜也很有特色\\']\",\"Rankings.type\":\"[1, 2]\",\"Rankings.title\":\"[\\'银牌\\', \\'天津当地风味餐厅榜 No.14\\']\",\"Rankings.year\":\"[2023.0, nan]\",\"Rankings.H5Url\":\"[\\'https:\\\\/\\\\/m.ctrip.com\\\\/webapp\\\\/gourmet\\\\/food\\\\/finalists\\\\/154.html?seo=0&isHideNavBar=YES&ishideheader=true&restaurantId=5361350&tabId=1\\', \\'https:\\\\/\\\\/m.ctrip.com\\\\/webapp\\\\/xranking\\\\/cranking\\\\/crankingCity\\\\/100900005527.html?ishideheader=true&isHideNavBar=YES&seo=0&src=foodRanking\\']\",\"TagNameList\":\"[nan]\"}', '0101000020E6100000D238D4EF424D5D4035DDA117A48E4340', '距市中心718m', [59400], [81000], 0, [37800, 59400], [55800, 81000]], [1035, 2, '如家商旅酒店(天津五大道游客中心外国语大学店)', '天津', 4.8, '￥472', 39.115555, 117.21031, 0, 29, '位置交通 位置很好,房间床品也很干净,五大道里面', '{\"名称\":\"如家商旅酒店(天津五大道游客中心外国语大学店)\",\"分数\":4.8,\"人气排名\":6,\"图片链接\":\"https:\\\\/\\\\/userimg.qunarzz.com\\\\/imgs\\\\/202404\\\\/27\\\\/C.UecTTSvVlVYWeQZgs720.jpg\",\"简介\":\"位置交通 位置很好,房间床品也很干净,五大道里面\",\"地址\":\"舒适型|天津和平区睦南道72号\",\"经度\":117.210309,\"纬度\":39.115554,\"价格\":null,\"点评数量\":29}', '0101000020E61000007C43E1B3754D5D4004763579CA8E4340', '舒适型|天津和平区睦南道72号', [0, None], [86340, None], 0, [0, None], [86340, None]]], [[1035, 2, '如家商旅酒店(天津五大道游客中心外国语大学店)', '天津', 4.8, '￥472', 39.115555, 117.21031, 0, 29, '位置交通 位置很好,房间床品也很干净,五大道里面', '{\"名称\":\"如家商旅酒店(天津五大道游客中心外国语大学店)\",\"分数\":4.8,\"人气排名\":6,\"图片链接\":\"https:\\\\/\\\\/userimg.qunarzz.com\\\\/imgs\\\\/202404\\\\/27\\\\/C.UecTTSvVlVYWeQZgs720.jpg\",\"简介\":\"位置交通 位置很好,房间床品也很干净,五大道里面\",\"地址\":\"舒适型|天津和平区睦南道72号\",\"经度\":117.210309,\"纬度\":39.115554,\"价格\":null,\"点评数量\":29}', '0101000020E61000007C43E1B3754D5D4004763579CA8E4340', '舒适型|天津和平区睦南道72号', [0, None], [86340, None], 0, [0, None], [86340, None]], [47, 0, '天津科学技术馆', '天津', 4.7, '天津科学技术馆位于河西区隆昌路。无论从高处鸟瞰，还是从远处凭眺，天津科技馆的外型酷似一座桥。象征着科技是连接现在与未来的一座桥梁。“桥”3/4球形的天象厅，宛如一轮喷薄欲出的朝阳。科技馆占地面积近2万平方米。馆内由展示厅、多功能天象厅、报告厅、培训教室等组成。是一座现代化的综合展馆。\\n\\n展示厅是该馆的主体部分。展厅分上、下两层，共有300多件(套)展品。该馆的展品集科学性、知识性、参与性、艺术性于一体，借助声、光、电、计算机等现代化展示手段，生动形象地向公众普及科学技术知识，参观者在直接参与操作展品的过程中，通过视觉、听觉、触觉等感觉系统，亲身体验到科学技术带来的乐趣。科技馆的球型建筑天象厅 (也称宇宙剧场)，内部装有倾斜式铝质天幕和天象仪、360度全天域穹幕电影放映系统和各种投影设备。', 39.08717, 117.21819, 7200, 107, 'nan', '{\"id\":148430571,\"basicInfo.id\":148430571,\"basicInfo.productTypeName\":\"poi\",\"basicInfo.detailUrl.URL\":\"https:\\\\/\\\\/you.ctrip.com\\\\/sight\\\\/tianjin154\\\\/148430571.html\",\"basicInfo.name\":\"【天津】林宥嘉 2024《idol》世界巡回演唱会\",\"basicInfo.mainName\":\"【天津】林宥嘉 2024《idol》世界巡回演唱会\",\"basicInfo.subName\":\"奥体中心\\\\/水上公园\",\"basicInfo.level\":null,\"basicInfo.isFavorite\":false,\"basicInfo.mediaInfo.images.url\":\"https:\\\\/\\\\/dimg04.c-ctrip.com\\\\/images\\\\/0100612000ec9r2997B81_C_568_320_Q80.jpg\",\"basicInfo.mediaInfo.videoUrls.PlayUrl\":null,\"basicInfo.statusInfo.isOnline\":true,\"basicInfo.statusInfo.isActive\":true,\"basicInfo.statusInfo.isCanSale\":true,\"basicInfo.extras.PoiExtra_DISTANCE\":5726.3384215532,\"basicInfo.extras.PoiExtra_CITYNAME\":\"天津\",\"basicInfo.extras.front_tag_name\":\"景点\",\"basicInfo.extras.PoiExtra_SIGHTID\":148430571,\"basicInfo.extras.PoiExtra_DISTANCE_DESC\":\"距市中心5.8km\",\"basicInfo.extras.PoiExtra_SHORTFEATURE\":null,\"basicInfo.extras.TOS\":\"tkt\",\"basicInfo.extras.poiId\":148430571,\"priceInfo.price\":0.0,\"priceInfo.discountPrice\":null,\"priceInfo.originalPrice\":null,\"priceInfo.isFree\":false,\"priceInfo.displayPriceType\":5,\"priceInfo.preferentialAmount\":null,\"priceInfo.marketDiscountPrice\":null,\"statistics.commentInfo.score\":null,\"statistics.commentInfo.count\":null,\"statistics.commentInfo.tags\":null,\"statistics.rankingInfo.ranking\":null,\"statistics.rankingInfo.description\":null,\"statistics.hotScoreInfo.desc\":5.4,\"basicInfo.extras.PoiExtra_PLAYSPOTINFO_COUNT\":null,\"basicInfo.extras.PoiExtra_PLAYSPOTINFO\":null,\"statistics.rankingInfo.type\":null,\"tagGroups.tags.tagImage\":null,\"basicInfo.extras.PoiExtra_OPENTIMEDESC\":null,\"tagGroups.groupCode\":\"[\\'VIEW_TAG\\', \\'CATEGORY_THEME_TAG\\', \\'FRONT_NAME_TAG\\']\",\"tagGroups.tags.tagId\":\"[0.0, 319.0, nan]\",\"tagGroups.tags.tagName\":\"[\\'Ticket2\\', \\'演唱会\\', \\'景点\\']\",\"tagGroups.tags.tagType\":\"[\\'\\', \\'Tag\\', nan]\",\"tagGroups.tags.tagTitle\":\"[\\'\\', nan]\",\"tagGroups.tags.tagCode\":\"[\\'Ticket2\\', \\'1003\\', nan]\",\"address\":\"天津市南开区宾水西道393号\",\"GCJ02_lat\":39.07515,\"GCJ02_lon\":117.176284,\"BD09_lat\":39.0808,\"BD09_lon\":117.182886,\"openTime\":\"7月13日-7月14日，约120分钟（以现场为准）\"}', '0101000020E6100000A54929E8F64D5D40CE1C925A288B4340', '天津市河西区隆昌路94号', [32400], [59400], 0, [32400, None], [59400, None]], [210, 1, '津菜典藏(人民公园店)', '天津', 4.6, '华丽内饰古典大气，地道津菜口感惊艳', 39.103615, 117.21953, 3600, 38, '其他中餐', '{\"RestaurantId\":5375783,\"PoiId\":11526486,\"parentId\":0,\"parentHotelDesc\":null,\"parentHotelName\":null,\"parentHotelDescSuffix\":null,\"Name\":\"津菜典藏(人民公园店)\",\"DistrictId\":154,\"Lat\":39.1036146,\"Lon\":117.219532,\"GGCoord.Lat\":39.1036146,\"GGCoord.Lng\":117.219532,\"MeiShiLinTagName\":\"美食林榜单\",\"BCoord.Lat\":39.109777,\"BCoord.Lng\":117.225962,\"ImageUrl\":\"https:\\\\/\\\\/dimg04.c-ctrip.com\\\\/images\\\\/01007120009q9rap95F98_D_300_300_Q50.jpg?proc=autoorient\",\"AveragePrice\":172.0,\"CurrencyUnit\":\"RMB\",\"CommentScore\":4.6,\"CommentCount\":38,\"DistanceNum\":1.5557573725,\"IsBook\":false,\"IsHaveProduct\":false,\"IsPromotion\":false,\"RecommandType\":1,\"ImageUrl2\":\"https:\\\\/\\\\/dimg04.c-ctrip.com\\\\/images\\\\/01007120009q9rap95F98_D_100_100_Q90.jpg?proc=autoorient\",\"Feature\":\"华丽内饰古典大气，地道津菜口感惊艳\",\"ShiMeiLinName\":\"金牌\",\"ShiMeiLinType\":4,\"IsHaveHotelProduct\":false,\"LandmarkName\":null,\"LandmarkDistance\":null,\"MeiShiLinChainTypeName\":null,\"OpenStatus\":null,\"ZoneName\":\"滨江道\\\\/小白楼\\\\/五大道度假区\",\"InChina\":true,\"IsOversea\":false,\"CuisineName\":\"其他中餐\",\"DistrictCentreDistance\":\"1.6km\",\"IsSupportQueue\":false,\"DistanceDesc\":\"距市中心1.6km\",\"InDistrict\":true,\"Coupon\":null,\"IsFavourite\":false,\"BigRankingNo\":\"2023美食林榜单\",\"SmallRankingNo\":\"当地风味餐厅榜\",\"UgcComment\":\"宫保鳕鱼粒好吃入味\",\"IsHaveVideo\":false,\"GrouponDesc\":null,\"IsAdv\":false,\"Rankings.imageUrl\":\"https:\\\\/\\\\/dimg04.c-ctrip.com\\\\/images\\\\/0106r12000bda3pdmFCA2.png\",\"Rankings.HybridUrl\":null,\"Rankings.gourmetlistType\":4.0,\"Rankings.reason\":null,\"Rankings.rankingId\":null,\"Rankings.sortNo\":null,\"gourmetlistYear\":2023.0,\"PackageInfos.Type\":null,\"PackageInfos.PackageName\":null,\"PackageInfos.H5Url\":null,\"PackageInfos.CouponId\":null,\"UgcCommentList\":\"[\\'很喜欢的天津菜馆\\', \\'很不错很满意口味很好天津菜很经典很美味\\', \\'每桌必点的罾蹦鲤鱼个人感觉挺甜的，十分饱\\', \\'每桌必点的罾蹦鲤鱼个人感觉挺甜的\\', \\'宫保鳕鱼粒好吃入味\\']\",\"Rankings.type\":\"[1, 2]\",\"Rankings.title\":\"[\\'金牌\\', \\'天津当地风味餐厅榜 No.4\\']\",\"Rankings.year\":\"[2023.0, nan]\",\"Rankings.H5Url\":\"[\\'https:\\\\/\\\\/m.ctrip.com\\\\/webapp\\\\/gourmet\\\\/food\\\\/finalists\\\\/154.html?seo=0&isHideNavBar=YES&ishideheader=true&restaurantId=5375783&tabId=1\\', \\'https:\\\\/\\\\/m.ctrip.com\\\\/webapp\\\\/xranking\\\\/cranking\\\\/crankingCity\\\\/100900005527.html?ishideheader=true&isHideNavBar=YES&seo=0&src=foodRanking\\']\",\"TagNameList\":\"[nan]\"}', '0101000020E61000003B1BF2CF0C4E5D40AE31433E438D4340', '距市中心1.6km', [37800], [55800], 0, [37800, 59400], [55800, 81000]], [60, 0, '人民公园', '天津', 4.7, '天津人民公园位于河西区东北部，东起厦门路，西邻广东路，南自琼州道，北达徽州道，是一个以有游艺娱乐为主的综合性公园。\\n公园分为东南西北四个区域，北部地区是儿童游乐区，西部地区是水上游乐及沿湖游览区，此处设有长廊、水榭、湖心亭、白石桥、中合塔等建筑。南部地区是动物观赏区，东部地区是公园的文化活动区，这里设有南北展馆及国际博览馆，还有占地4千平米的大广场。\\n人民公园将中国山水园林文化内涵与现代人文景观密切结合，形成古朴兼容、老幼适宜、动静结合的新格局，被誉为是镶嵌在繁华闹市中的“绿宝石”。', 39.104874, 117.21814, 3600, 152, 'nan', '{\"id\":83953734,\"basicInfo.id\":83953734,\"basicInfo.productTypeName\":\"poi\",\"basicInfo.detailUrl.URL\":\"https:\\\\/\\\\/you.ctrip.com\\\\/sight\\\\/tianjin154\\\\/5708362.html\",\"basicInfo.name\":\"吉姆冒险世界\",\"basicInfo.mainName\":\"吉姆冒险世界\",\"basicInfo.subName\":\"梨木台\\\\/九山顶度假区\",\"basicInfo.level\":null,\"basicInfo.isFavorite\":false,\"basicInfo.mediaInfo.images.url\":\"https:\\\\/\\\\/dimg04.c-ctrip.com\\\\/images\\\\/01040120008d5b4nzA4E8_C_568_320_Q80.jpg\",\"basicInfo.mediaInfo.videoUrls.PlayUrl\":\"https:\\\\/\\\\/video.c-ctrip.com\\\\/videos\\\\/1A0a1u000001i2y7v4E4E.mp4?ts=1627649099307\",\"basicInfo.statusInfo.isOnline\":true,\"basicInfo.statusInfo.isActive\":true,\"basicInfo.statusInfo.isCanSale\":true,\"basicInfo.extras.PoiExtra_DISTANCE\":120268.6482871612,\"basicInfo.extras.PoiExtra_CITYNAME\":\"天津\",\"basicInfo.extras.front_tag_name\":\"景点\",\"basicInfo.extras.PoiExtra_SIGHTID\":5708362,\"basicInfo.extras.PoiExtra_DISTANCE_DESC\":\"距市中心120.3km\",\"basicInfo.extras.PoiExtra_SHORTFEATURE\":\"北美风格的户外探索乐园\",\"basicInfo.extras.TOS\":\"tkt\",\"basicInfo.extras.poiId\":83953734,\"priceInfo.price\":129.0,\"priceInfo.discountPrice\":0.0,\"priceInfo.originalPrice\":0.0,\"priceInfo.isFree\":false,\"priceInfo.displayPriceType\":2,\"priceInfo.preferentialAmount\":0.0,\"priceInfo.marketDiscountPrice\":null,\"statistics.commentInfo.score\":4.6,\"statistics.commentInfo.count\":298.0,\"statistics.commentInfo.tags\":\"298 reviews\",\"statistics.rankingInfo.ranking\":null,\"statistics.rankingInfo.description\":null,\"statistics.hotScoreInfo.desc\":4.2,\"basicInfo.extras.PoiExtra_PLAYSPOTINFO_COUNT\":null,\"basicInfo.extras.PoiExtra_PLAYSPOTINFO\":null,\"statistics.rankingInfo.type\":null,\"tagGroups.tags.tagImage\":null,\"basicInfo.extras.PoiExtra_OPENTIMEDESC\":null,\"tagGroups.groupCode\":\"[\\'VIEW_TAG\\', \\'CATEGORY_THEME_TAG\\', \\'PRODUCT_TAG\\', \\'FRONT_NAME_TAG\\']\",\"tagGroups.tags.tagId\":\"[0.0, 292.0, nan]\",\"tagGroups.tags.tagName\":\"[\\'Ticket2\\', \\'游乐场\\', \\'可订明日\\', \\'随时退\\', \\'景点\\']\",\"tagGroups.tags.tagType\":\"[\\'\\', \\'Tag\\', \\'booking\\', nan]\",\"tagGroups.tags.tagTitle\":\"[\\'\\', nan]\",\"tagGroups.tags.tagCode\":\"[\\'Ticket2\\', \\'0\\', \\'TomorrowCanBook\\', \\'RefundAtAnyTime\\', nan]\",\"address\":\"天津市蓟州区马营公路南吉姆冒险世界\",\"GCJ02_lat\":40.17796,\"GCJ02_lon\":117.488593,\"BD09_lat\":40.184272,\"BD09_lon\":117.494967,\"openTime\":\"08:00-17:30开放（16:30停止入园）\"}', '0101000020E6100000DBBE47FDF54D5D40E09D7C7A6C8D4340', '天津市河西区徽州道29号', [18000], [82800], 0, [18000, None], [82800, None]], [6, 0, '海河', '天津', 4.7, '海河穿天津城区而过，是天津的母亲河。两岸就是天津繁华的街区，同时也集聚了很多优雅的历史建筑，西洋与中式、古典和繁华交织，景观浪漫。在这里漫步、观光、乘船都很不错，夜晚时的景色更是分外迷人。\\n\\n游玩海河，精华的区域位于北侧的天津之眼到南侧的大光明桥（近小白楼）之间，一路走走玩玩，可能要花上1整天的时间。沿途有天津之眼的浪漫优美、古文化街的民俗韵味、意大利风情区的异国风情等等，尤其值得一看的就是海河两侧众多的建筑，海河上的很多桥也都造型各异，十分好看。\\n\\n夜晚是观赏海河的好时间，两侧华灯初上，景色非常漂亮，若要拍摄夜景，推荐天津之眼、津塔津门、天津火车站等几个地方。另外，也可以乘坐海河游船沿途观光。', 39.10482, 117.2344, 7200, 814, '海河两岸汇聚了天津最精华的街景，夜晚景色绚烂迷人。', '{\"id\":10758716,\"basicInfo.id\":10758716,\"basicInfo.productTypeName\":\"poi\",\"basicInfo.detailUrl.URL\":\"https:\\\\/\\\\/you.ctrip.com\\\\/sight\\\\/tianjin154\\\\/112858.html\",\"basicInfo.name\":\"天津欢乐谷\",\"basicInfo.mainName\":\"天津欢乐谷\",\"basicInfo.subName\":\"东丽湖\\\\/欢乐谷度假区\",\"basicInfo.level\":\"4A\",\"basicInfo.isFavorite\":false,\"basicInfo.mediaInfo.images.url\":\"https:\\\\/\\\\/dimg04.c-ctrip.com\\\\/images\\\\/100h1f000001grvns8731_C_568_320_Q80.jpg\",\"basicInfo.mediaInfo.videoUrls.PlayUrl\":\"https:\\\\/\\\\/video.c-ctrip.com\\\\/videos\\\\/1A0p16000000z5fuf00A1_smart.mp4\",\"basicInfo.statusInfo.isOnline\":true,\"basicInfo.statusInfo.isActive\":true,\"basicInfo.statusInfo.isCanSale\":true,\"basicInfo.extras.PoiExtra_DISTANCE\":23899.9121154168,\"basicInfo.extras.PoiExtra_CITYNAME\":\"天津\",\"basicInfo.extras.front_tag_name\":\"景点\",\"basicInfo.extras.PoiExtra_SIGHTID\":112858,\"basicInfo.extras.PoiExtra_DISTANCE_DESC\":\"距市中心23.9km\",\"basicInfo.extras.PoiExtra_SHORTFEATURE\":\"经典亲子游乐去处\",\"basicInfo.extras.TOS\":\"tkt\",\"basicInfo.extras.poiId\":10758716,\"priceInfo.price\":158.0,\"priceInfo.discountPrice\":0.0,\"priceInfo.originalPrice\":170.0,\"priceInfo.isFree\":false,\"priceInfo.displayPriceType\":2,\"priceInfo.preferentialAmount\":0.0,\"priceInfo.marketDiscountPrice\":12.0,\"statistics.commentInfo.score\":4.6,\"statistics.commentInfo.count\":6752.0,\"statistics.commentInfo.tags\":\"6,752 reviews\",\"statistics.rankingInfo.ranking\":5.0,\"statistics.rankingInfo.description\":\"天津亲子景点榜 No.5\",\"statistics.hotScoreInfo.desc\":6.5,\"basicInfo.extras.PoiExtra_PLAYSPOTINFO_COUNT\":5.0,\"basicInfo.extras.PoiExtra_PLAYSPOTINFO\":\"灵异古堡、愤怒的小鸟(欢乐时光区店)、欢乐谷维京船、激流勇进、滑板冲浪\",\"statistics.rankingInfo.type\":null,\"tagGroups.tags.tagImage\":null,\"basicInfo.extras.PoiExtra_OPENTIMEDESC\":null,\"tagGroups.groupCode\":\"[\\'VIEW_TAG\\', \\'CATEGORY_THEME_TAG\\', \\'WLYXBQ_TAG\\', \\'PRODUCT_TAG\\', \\'FRONT_NAME_TAG\\', \\'PROMOTION_TAG\\', \\'PARENT_CHILD_TAG\\']\",\"tagGroups.tags.tagId\":\"[0.0, 104034.0, 292.0, nan]\",\"tagGroups.tags.tagName\":\"[\\'Ticket2\\', \\'嗨玩乐园\\', \\'游乐场\\', \\'暑期特惠\\', \\'随买随用\\', \\'可订今日\\', \\'随时退\\', \\'景点\\', nan]\",\"tagGroups.tags.tagType\":\"[\\'\\', \\'Tag\\', \\'active\\', \\'booking\\', nan]\",\"tagGroups.tags.tagTitle\":\"[\\'\\', nan]\",\"tagGroups.tags.tagCode\":\"[\\'Ticket2\\', \\'0\\', \\'2022sqth\\', \\'ReadyToUse\\', \\'TodayCanBook\\', \\'RefundAtAnyTime\\', nan]\",\"address\":\"天津市东丽区东丽之光大道2号\",\"GCJ02_lat\":39.188522,\"GCJ02_lon\":117.477211,\"BD09_lat\":39.192949,\"BD09_lon\":117.483417,\"openTime\":\"10:00-22:00开放\"}', '0101000020E6100000C4CDA964004F5D408E7747C66A8D4340', '天津市河东区', [0], [86340], 0, [0, None], [86340, None]], [269, 1, '昱德来菜馆(河西店)', '天津', 4.6, '地道天津菜馆，干煸鱿鱼须麻脆略带甜', 39.110535, 117.22324, 3600, 268, '其他中餐', '{\"RestaurantId\":224675,\"PoiId\":259405,\"parentId\":0,\"parentHotelDesc\":null,\"parentHotelName\":null,\"parentHotelDescSuffix\":null,\"Name\":\"昱德来菜馆(河西店)\",\"DistrictId\":154,\"Lat\":39.1105364,\"Lon\":117.2232434,\"GGCoord.Lat\":39.1105364,\"GGCoord.Lng\":117.2232434,\"MeiShiLinTagName\":\"美食林榜单\",\"BCoord.Lat\":39.116757,\"BCoord.Lng\":117.22966,\"ImageUrl\":\"https:\\\\/\\\\/dimg04.c-ctrip.com\\\\/images\\\\/100c0i0000009sqe46AAD_D_300_300_Q50.jpg?proc=autoorient\",\"AveragePrice\":64.0,\"CurrencyUnit\":\"RMB\",\"CommentScore\":4.6,\"CommentCount\":268,\"DistanceNum\":1.0341632896,\"IsBook\":false,\"IsHaveProduct\":false,\"IsPromotion\":false,\"RecommandType\":1,\"ImageUrl2\":\"https:\\\\/\\\\/dimg04.c-ctrip.com\\\\/images\\\\/100c0i0000009sqe46AAD_D_100_100_Q90.jpg?proc=autoorient\",\"Feature\":\"地道天津菜馆，干煸鱿鱼须麻脆略带甜\",\"ShiMeiLinName\":\"银牌\",\"ShiMeiLinType\":5,\"IsHaveHotelProduct\":false,\"LandmarkName\":null,\"LandmarkDistance\":null,\"MeiShiLinChainTypeName\":null,\"OpenStatus\":null,\"ZoneName\":\"滨江道\\\\/小白楼\\\\/五大道度假区\",\"InChina\":true,\"IsOversea\":false,\"CuisineName\":\"其他中餐\",\"DistrictCentreDistance\":\"1km\",\"IsSupportQueue\":false,\"DistanceDesc\":\"距市中心1km\",\"InDistrict\":true,\"Coupon\":null,\"IsFavourite\":false,\"BigRankingNo\":\"2023美食林榜单\",\"SmallRankingNo\":null,\"UgcComment\":\"地道天津菜\",\"IsHaveVideo\":false,\"GrouponDesc\":null,\"IsAdv\":false,\"Rankings.imageUrl\":\"https:\\\\/\\\\/dimg04.c-ctrip.com\\\\/images\\\\/0105a12000bda3ml12F6D.png\",\"Rankings.HybridUrl\":null,\"Rankings.gourmetlistType\":5.0,\"Rankings.reason\":null,\"Rankings.rankingId\":null,\"Rankings.sortNo\":null,\"gourmetlistYear\":2023.0,\"PackageInfos.Type\":null,\"PackageInfos.PackageName\":null,\"PackageInfos.H5Url\":null,\"PackageInfos.CouponId\":null,\"UgcCommentList\":\"[\\'干煸鱿鱼须酱爆洋白菜招牌特色桌桌必点\\', \\'八珍豆腐，菜量大，性价比高，味道没得说\\', \\'干煸鱿鱼须和酱爆洋白菜是特色，每次必点\\', \\'干煸鱿鱼须，酱爆洋白菜，八珍豆腐必点的\\', \\'地道天津菜\\']\",\"Rankings.type\":\"[1.0]\",\"Rankings.title\":\"[\\'银牌\\']\",\"Rankings.year\":\"[2023.0]\",\"Rankings.H5Url\":\"[\\'https:\\\\/\\\\/m.ctrip.com\\\\/webapp\\\\/gourmet\\\\/food\\\\/finalists\\\\/154.html?seo=0&isHideNavBar=YES&ishideheader=true&restaurantId=224675&tabId=1\\']\",\"TagNameList\":\"[nan]\"}', '0101000020E61000001083AF9E494E5D404082870E268E4340', '距市中心1km', [59400], [81000], 0, [37800, 59400], [55800, 81000]], [304, 1, '粤之园(澳门路店)', '天津', 4.6, '家庭餐馆既视感，天津的老牌泰国餐馆之一。', 39.11589, 117.210045, 3600, 16, '东南亚菜', '{\"RestaurantId\":195139,\"PoiId\":229869,\"parentId\":0,\"parentHotelDesc\":null,\"parentHotelName\":null,\"parentHotelDescSuffix\":null,\"Name\":\"粤之园(澳门路店)\",\"DistrictId\":154,\"Lat\":39.1158891,\"Lon\":117.210048,\"GGCoord.Lat\":39.1158891,\"GGCoord.Lng\":117.210048,\"MeiShiLinTagName\":null,\"BCoord.Lat\":39.1218886,\"BCoord.Lng\":117.2165437,\"ImageUrl\":\"https:\\\\/\\\\/dimg04.c-ctrip.com\\\\/images\\\\/100h0v000000k0v4g13A9_D_300_300_Q50.jpg?proc=autoorient\",\"AveragePrice\":111.0,\"CurrencyUnit\":\"RMB\",\"CommentScore\":4.6,\"CommentCount\":16,\"DistanceNum\":0.4284825127,\"IsBook\":false,\"IsHaveProduct\":false,\"IsPromotion\":false,\"RecommandType\":1,\"ImageUrl2\":\"https:\\\\/\\\\/dimg04.c-ctrip.com\\\\/images\\\\/100h0v000000k0v4g13A9_D_100_100_Q90.jpg?proc=autoorient\",\"Feature\":\"家庭餐馆既视感，天津的老牌泰国餐馆之一。\",\"ShiMeiLinName\":null,\"ShiMeiLinType\":0,\"IsHaveHotelProduct\":false,\"LandmarkName\":\"近庆王府\",\"LandmarkDistance\":\"328m\",\"MeiShiLinChainTypeName\":null,\"OpenStatus\":null,\"ZoneName\":null,\"InChina\":true,\"IsOversea\":false,\"CuisineName\":\"东南亚菜\",\"DistrictCentreDistance\":\"428m\",\"IsSupportQueue\":false,\"DistanceDesc\":\"距市中心428m\",\"InDistrict\":true,\"Coupon\":null,\"IsFavourite\":false,\"BigRankingNo\":null,\"SmallRankingNo\":null,\"UgcComment\":\"最爱的绿咖喱\",\"IsHaveVideo\":false,\"GrouponDesc\":null,\"IsAdv\":false,\"Rankings.imageUrl\":null,\"Rankings.HybridUrl\":null,\"Rankings.gourmetlistType\":null,\"Rankings.reason\":null,\"Rankings.rankingId\":null,\"Rankings.sortNo\":null,\"gourmetlistYear\":null,\"PackageInfos.Type\":null,\"PackageInfos.PackageName\":null,\"PackageInfos.H5Url\":null,\"PackageInfos.CouponId\":null,\"UgcCommentList\":\"[\\'小伙伴都挺喜欢，特别是黄咖喱汤和冬阴功汤\\', \\'椰子糕还有炸虾饼味道都不错\\', \\'特别是黄咖喱汤和冬阴功汤\\', \\'虾饼和菠萝饭是非常好吃的\\', \\'最爱的绿咖喱\\']\",\"Rankings.type\":\"[\\'\\']\",\"Rankings.title\":\"[\\'\\']\",\"Rankings.year\":\"[\\'\\']\",\"Rankings.H5Url\":\"[\\'\\']\",\"TagNameList\":\"[nan]\"}', '0101000020E6100000C6A52A6D714D5D403F3B3B74D58E4340', '距市中心428m', [59400], [81000], 0, [37800, 59400], [55800, 81000]], [1035, 2, '如家商旅酒店(天津五大道游客中心外国语大学店)', '天津', 4.8, '￥472', 39.115555, 117.21031, 0, 29, '位置交通 位置很好,房间床品也很干净,五大道里面', '{\"名称\":\"如家商旅酒店(天津五大道游客中心外国语大学店)\",\"分数\":4.8,\"人气排名\":6,\"图片链接\":\"https:\\\\/\\\\/userimg.qunarzz.com\\\\/imgs\\\\/202404\\\\/27\\\\/C.UecTTSvVlVYWeQZgs720.jpg\",\"简介\":\"位置交通 位置很好,房间床品也很干净,五大道里面\",\"地址\":\"舒适型|天津和平区睦南道72号\",\"经度\":117.210309,\"纬度\":39.115554,\"价格\":null,\"点评数量\":29}', '0101000020E61000007C43E1B3754D5D4004763579CA8E4340', '舒适型|天津和平区睦南道72号', [0, None], [86340, None], 0, [0, None], [86340, None]]]]\n"
     ]
    }
   ],
   "source": [
    "from GRASP import GRASP\n",
    "plan_entity = GRASP(\n",
    "    N_c_min=[0, output_dict.get('N_c_min')[1], 2],\n",
    "    N_c_max=[10, output_dict.get('N_c_max')[1], 2],\n",
    "    maxIterations=1,\n",
    "    poi_id_list=getIdsbyNames(output_dict.get(\"poi_id_list\"), 'attraction'),\n",
    "    route_num=output_dict.get(\"route_num\"),\n",
    "    not_poi_list=getIdsbyNames(output_dict.get(\"not_poi_list\"), 'attraction'),\n",
    "    use_min_restaurant_gap=output_dict.get(\"use_min_restaurant_gap\"),\n",
    "    start_day_time=output_dict.get(\"start_day_time\"),\n",
    "    plan_max_time=output_dict.get(\"plan_max_time\"),\n",
    "    tightness_w=output_dict.get(\"tightness_w\"),\n",
    "    user_budget=output_dict.get(\"user_budget\"),\n",
    "    start_end_poi=getIdsbyNames(output_dict.get(\"start_end_poi\"), 'hotel')[0] if output_dict.get(\"start_end_poi\") is not None else None\n",
    ")\n",
    "\n",
    "results, st, wt, ts, tt, ds = plan_entity.GRASP()\n",
    "print(results)"
   ],
   "metadata": {
    "collapsed": false,
    "ExecuteTime": {
     "end_time": "2024-08-12T08:28:18.514017500Z",
     "start_time": "2024-08-12T08:28:17.791527600Z"
    }
   },
   "id": "63efdf62de4f5f81",
   "execution_count": 13
  },
  {
   "cell_type": "code",
   "outputs": [
    {
     "data": {
      "text/plain": "['如家商旅酒店(天津五大道游客中心外国语大学店)',\n '五大道',\n '五大道小洋楼',\n '大鹅经典俄式西餐',\n '海河文化广场',\n '解放桥',\n 'La Fleur用心(和平店)',\n '华竹食府(南海路店)',\n '如家商旅酒店(天津五大道游客中心外国语大学店)',\n '如家商旅酒店(天津五大道游客中心外国语大学店)',\n '天津科学技术馆',\n '津菜典藏(人民公园店)',\n '人民公园',\n '海河',\n '昱德来菜馆(河西店)',\n '粤之园(澳门路店)',\n '如家商旅酒店(天津五大道游客中心外国语大学店)']"
     },
     "execution_count": 15,
     "metadata": {},
     "output_type": "execute_result"
    }
   ],
   "source": [
    "[result[poi_dict['poi_name']] for result_day in results for result in result_day]"
   ],
   "metadata": {
    "collapsed": false,
    "ExecuteTime": {
     "end_time": "2024-08-12T08:31:23.127469800Z",
     "start_time": "2024-08-12T08:31:23.097691600Z"
    }
   },
   "id": "dce1ef125fb04397",
   "execution_count": 15
  },
  {
   "cell_type": "code",
   "source": [
    "import pandas as pd\n",
    "\n",
    "day_pois = pd.read_csv('../data/Beijing_case_dataset - Day&POIs.csv')\n",
    "day_pois.head()"
   ],
   "metadata": {
    "collapsed": false,
    "ExecuteTime": {
     "end_time": "2024-08-31T07:41:35.741349Z",
     "start_time": "2024-08-31T07:41:34.747068Z"
    }
   },
   "id": "fcb020cb63b0f7a4",
   "outputs": [
    {
     "data": {
      "text/plain": [
       "   day                                                poi        特色  \\\n",
       "0    6  天安门广场 > 故宫博物院 > 什刹海 > 南锣鼓巷\\n天坛 > 前门大街\\n八达岭长城 >...     经典、全面   \n",
       "1    3  南锣鼓巷 > 五道营胡同 > 国子监\\n八大胡同 > 大栅栏\\n798艺术区 > 奥林匹克公...   土著、原汁原味   \n",
       "2    4  天安门广场 > 故宫博物院 > 南锣鼓巷 > 后海公园\\n颐和园 > 清华大学 > 北京大学...  穷游、学生、地标   \n",
       "3    5  天安门广场 > 故宫博物院 > 什刹海 > 南锣鼓巷\\n天坛 > 前门大街\\n八达岭长城\\n...     古迹、繁华   \n",
       "4    4       南锣鼓巷 > 恭王府 > 什刹海\\n国子监 > 五道营胡同\\n八达岭长城\\n富国海底世界    深度、小长假   \n",
       "\n",
       "   Unnamed: 3  Unnamed: 4  Unnamed: 5  Unnamed: 6  Unnamed: 7  Unnamed: 8  \\\n",
       "0         NaN         NaN         NaN         NaN         NaN         NaN   \n",
       "1         NaN         NaN         NaN         NaN         NaN         NaN   \n",
       "2         NaN         NaN         NaN         NaN         NaN         NaN   \n",
       "3         NaN         NaN         NaN         NaN         NaN         NaN   \n",
       "4         NaN         NaN         NaN         NaN         NaN         NaN   \n",
       "\n",
       "   Unnamed: 9  ...  Unnamed: 11  Unnamed: 12  Unnamed: 13  Unnamed: 14  \\\n",
       "0         NaN  ...          NaN          NaN          NaN          NaN   \n",
       "1         NaN  ...          NaN          NaN          NaN          NaN   \n",
       "2         NaN  ...          NaN          NaN          NaN          NaN   \n",
       "3         NaN  ...          NaN          NaN          NaN          NaN   \n",
       "4         NaN  ...          NaN          NaN          NaN          NaN   \n",
       "\n",
       "   Unnamed: 15  Unnamed: 16  Unnamed: 17  Unnamed: 18  Unnamed: 19  \\\n",
       "0          NaN          NaN          NaN          NaN          NaN   \n",
       "1          NaN          NaN          NaN          NaN          NaN   \n",
       "2          NaN          NaN          NaN          NaN          NaN   \n",
       "3          NaN          NaN          NaN          NaN          NaN   \n",
       "4          NaN          NaN          NaN          NaN          NaN   \n",
       "\n",
       "   Unnamed: 20  \n",
       "0          NaN  \n",
       "1          NaN  \n",
       "2          NaN  \n",
       "3          NaN  \n",
       "4          NaN  \n",
       "\n",
       "[5 rows x 21 columns]"
      ],
      "text/html": [
       "<div>\n",
       "<style scoped>\n",
       "    .dataframe tbody tr th:only-of-type {\n",
       "        vertical-align: middle;\n",
       "    }\n",
       "\n",
       "    .dataframe tbody tr th {\n",
       "        vertical-align: top;\n",
       "    }\n",
       "\n",
       "    .dataframe thead th {\n",
       "        text-align: right;\n",
       "    }\n",
       "</style>\n",
       "<table border=\"1\" class=\"dataframe\">\n",
       "  <thead>\n",
       "    <tr style=\"text-align: right;\">\n",
       "      <th></th>\n",
       "      <th>day</th>\n",
       "      <th>poi</th>\n",
       "      <th>特色</th>\n",
       "      <th>Unnamed: 3</th>\n",
       "      <th>Unnamed: 4</th>\n",
       "      <th>Unnamed: 5</th>\n",
       "      <th>Unnamed: 6</th>\n",
       "      <th>Unnamed: 7</th>\n",
       "      <th>Unnamed: 8</th>\n",
       "      <th>Unnamed: 9</th>\n",
       "      <th>...</th>\n",
       "      <th>Unnamed: 11</th>\n",
       "      <th>Unnamed: 12</th>\n",
       "      <th>Unnamed: 13</th>\n",
       "      <th>Unnamed: 14</th>\n",
       "      <th>Unnamed: 15</th>\n",
       "      <th>Unnamed: 16</th>\n",
       "      <th>Unnamed: 17</th>\n",
       "      <th>Unnamed: 18</th>\n",
       "      <th>Unnamed: 19</th>\n",
       "      <th>Unnamed: 20</th>\n",
       "    </tr>\n",
       "  </thead>\n",
       "  <tbody>\n",
       "    <tr>\n",
       "      <th>0</th>\n",
       "      <td>6</td>\n",
       "      <td>天安门广场 &gt; 故宫博物院 &gt; 什刹海 &gt; 南锣鼓巷\\n天坛 &gt; 前门大街\\n八达岭长城 &gt;...</td>\n",
       "      <td>经典、全面</td>\n",
       "      <td>NaN</td>\n",
       "      <td>NaN</td>\n",
       "      <td>NaN</td>\n",
       "      <td>NaN</td>\n",
       "      <td>NaN</td>\n",
       "      <td>NaN</td>\n",
       "      <td>NaN</td>\n",
       "      <td>...</td>\n",
       "      <td>NaN</td>\n",
       "      <td>NaN</td>\n",
       "      <td>NaN</td>\n",
       "      <td>NaN</td>\n",
       "      <td>NaN</td>\n",
       "      <td>NaN</td>\n",
       "      <td>NaN</td>\n",
       "      <td>NaN</td>\n",
       "      <td>NaN</td>\n",
       "      <td>NaN</td>\n",
       "    </tr>\n",
       "    <tr>\n",
       "      <th>1</th>\n",
       "      <td>3</td>\n",
       "      <td>南锣鼓巷 &gt; 五道营胡同 &gt; 国子监\\n八大胡同 &gt; 大栅栏\\n798艺术区 &gt; 奥林匹克公...</td>\n",
       "      <td>土著、原汁原味</td>\n",
       "      <td>NaN</td>\n",
       "      <td>NaN</td>\n",
       "      <td>NaN</td>\n",
       "      <td>NaN</td>\n",
       "      <td>NaN</td>\n",
       "      <td>NaN</td>\n",
       "      <td>NaN</td>\n",
       "      <td>...</td>\n",
       "      <td>NaN</td>\n",
       "      <td>NaN</td>\n",
       "      <td>NaN</td>\n",
       "      <td>NaN</td>\n",
       "      <td>NaN</td>\n",
       "      <td>NaN</td>\n",
       "      <td>NaN</td>\n",
       "      <td>NaN</td>\n",
       "      <td>NaN</td>\n",
       "      <td>NaN</td>\n",
       "    </tr>\n",
       "    <tr>\n",
       "      <th>2</th>\n",
       "      <td>4</td>\n",
       "      <td>天安门广场 &gt; 故宫博物院 &gt; 南锣鼓巷 &gt; 后海公园\\n颐和园 &gt; 清华大学 &gt; 北京大学...</td>\n",
       "      <td>穷游、学生、地标</td>\n",
       "      <td>NaN</td>\n",
       "      <td>NaN</td>\n",
       "      <td>NaN</td>\n",
       "      <td>NaN</td>\n",
       "      <td>NaN</td>\n",
       "      <td>NaN</td>\n",
       "      <td>NaN</td>\n",
       "      <td>...</td>\n",
       "      <td>NaN</td>\n",
       "      <td>NaN</td>\n",
       "      <td>NaN</td>\n",
       "      <td>NaN</td>\n",
       "      <td>NaN</td>\n",
       "      <td>NaN</td>\n",
       "      <td>NaN</td>\n",
       "      <td>NaN</td>\n",
       "      <td>NaN</td>\n",
       "      <td>NaN</td>\n",
       "    </tr>\n",
       "    <tr>\n",
       "      <th>3</th>\n",
       "      <td>5</td>\n",
       "      <td>天安门广场 &gt; 故宫博物院 &gt; 什刹海 &gt; 南锣鼓巷\\n天坛 &gt; 前门大街\\n八达岭长城\\n...</td>\n",
       "      <td>古迹、繁华</td>\n",
       "      <td>NaN</td>\n",
       "      <td>NaN</td>\n",
       "      <td>NaN</td>\n",
       "      <td>NaN</td>\n",
       "      <td>NaN</td>\n",
       "      <td>NaN</td>\n",
       "      <td>NaN</td>\n",
       "      <td>...</td>\n",
       "      <td>NaN</td>\n",
       "      <td>NaN</td>\n",
       "      <td>NaN</td>\n",
       "      <td>NaN</td>\n",
       "      <td>NaN</td>\n",
       "      <td>NaN</td>\n",
       "      <td>NaN</td>\n",
       "      <td>NaN</td>\n",
       "      <td>NaN</td>\n",
       "      <td>NaN</td>\n",
       "    </tr>\n",
       "    <tr>\n",
       "      <th>4</th>\n",
       "      <td>4</td>\n",
       "      <td>南锣鼓巷 &gt; 恭王府 &gt; 什刹海\\n国子监 &gt; 五道营胡同\\n八达岭长城\\n富国海底世界</td>\n",
       "      <td>深度、小长假</td>\n",
       "      <td>NaN</td>\n",
       "      <td>NaN</td>\n",
       "      <td>NaN</td>\n",
       "      <td>NaN</td>\n",
       "      <td>NaN</td>\n",
       "      <td>NaN</td>\n",
       "      <td>NaN</td>\n",
       "      <td>...</td>\n",
       "      <td>NaN</td>\n",
       "      <td>NaN</td>\n",
       "      <td>NaN</td>\n",
       "      <td>NaN</td>\n",
       "      <td>NaN</td>\n",
       "      <td>NaN</td>\n",
       "      <td>NaN</td>\n",
       "      <td>NaN</td>\n",
       "      <td>NaN</td>\n",
       "      <td>NaN</td>\n",
       "    </tr>\n",
       "  </tbody>\n",
       "</table>\n",
       "<p>5 rows × 21 columns</p>\n",
       "</div>"
      ]
     },
     "execution_count": 1,
     "metadata": {},
     "output_type": "execute_result"
    }
   ],
   "execution_count": 1
  },
  {
   "cell_type": "code",
   "source": [
    "# drop all Nan column\n",
    "day_pois = day_pois[['day', 'poi', '特色']]\n",
    "day_pois.head()"
   ],
   "metadata": {
    "collapsed": false,
    "ExecuteTime": {
     "end_time": "2024-08-31T07:41:38.322449Z",
     "start_time": "2024-08-31T07:41:38.313427Z"
    }
   },
   "id": "41229ae73d3aaac9",
   "outputs": [
    {
     "data": {
      "text/plain": [
       "   day                                                poi        特色\n",
       "0    6  天安门广场 > 故宫博物院 > 什刹海 > 南锣鼓巷\\n天坛 > 前门大街\\n八达岭长城 >...     经典、全面\n",
       "1    3  南锣鼓巷 > 五道营胡同 > 国子监\\n八大胡同 > 大栅栏\\n798艺术区 > 奥林匹克公...   土著、原汁原味\n",
       "2    4  天安门广场 > 故宫博物院 > 南锣鼓巷 > 后海公园\\n颐和园 > 清华大学 > 北京大学...  穷游、学生、地标\n",
       "3    5  天安门广场 > 故宫博物院 > 什刹海 > 南锣鼓巷\\n天坛 > 前门大街\\n八达岭长城\\n...     古迹、繁华\n",
       "4    4       南锣鼓巷 > 恭王府 > 什刹海\\n国子监 > 五道营胡同\\n八达岭长城\\n富国海底世界    深度、小长假"
      ],
      "text/html": [
       "<div>\n",
       "<style scoped>\n",
       "    .dataframe tbody tr th:only-of-type {\n",
       "        vertical-align: middle;\n",
       "    }\n",
       "\n",
       "    .dataframe tbody tr th {\n",
       "        vertical-align: top;\n",
       "    }\n",
       "\n",
       "    .dataframe thead th {\n",
       "        text-align: right;\n",
       "    }\n",
       "</style>\n",
       "<table border=\"1\" class=\"dataframe\">\n",
       "  <thead>\n",
       "    <tr style=\"text-align: right;\">\n",
       "      <th></th>\n",
       "      <th>day</th>\n",
       "      <th>poi</th>\n",
       "      <th>特色</th>\n",
       "    </tr>\n",
       "  </thead>\n",
       "  <tbody>\n",
       "    <tr>\n",
       "      <th>0</th>\n",
       "      <td>6</td>\n",
       "      <td>天安门广场 &gt; 故宫博物院 &gt; 什刹海 &gt; 南锣鼓巷\\n天坛 &gt; 前门大街\\n八达岭长城 &gt;...</td>\n",
       "      <td>经典、全面</td>\n",
       "    </tr>\n",
       "    <tr>\n",
       "      <th>1</th>\n",
       "      <td>3</td>\n",
       "      <td>南锣鼓巷 &gt; 五道营胡同 &gt; 国子监\\n八大胡同 &gt; 大栅栏\\n798艺术区 &gt; 奥林匹克公...</td>\n",
       "      <td>土著、原汁原味</td>\n",
       "    </tr>\n",
       "    <tr>\n",
       "      <th>2</th>\n",
       "      <td>4</td>\n",
       "      <td>天安门广场 &gt; 故宫博物院 &gt; 南锣鼓巷 &gt; 后海公园\\n颐和园 &gt; 清华大学 &gt; 北京大学...</td>\n",
       "      <td>穷游、学生、地标</td>\n",
       "    </tr>\n",
       "    <tr>\n",
       "      <th>3</th>\n",
       "      <td>5</td>\n",
       "      <td>天安门广场 &gt; 故宫博物院 &gt; 什刹海 &gt; 南锣鼓巷\\n天坛 &gt; 前门大街\\n八达岭长城\\n...</td>\n",
       "      <td>古迹、繁华</td>\n",
       "    </tr>\n",
       "    <tr>\n",
       "      <th>4</th>\n",
       "      <td>4</td>\n",
       "      <td>南锣鼓巷 &gt; 恭王府 &gt; 什刹海\\n国子监 &gt; 五道营胡同\\n八达岭长城\\n富国海底世界</td>\n",
       "      <td>深度、小长假</td>\n",
       "    </tr>\n",
       "  </tbody>\n",
       "</table>\n",
       "</div>"
      ]
     },
     "execution_count": 2,
     "metadata": {},
     "output_type": "execute_result"
    }
   ],
   "execution_count": 2
  },
  {
   "cell_type": "code",
   "outputs": [],
   "source": [
    "# poi 列按照\\n分割为两列"
   ],
   "metadata": {
    "collapsed": false
   },
   "id": "81a2300411df1ff9",
   "execution_count": null
  },
  {
   "cell_type": "code",
   "source": [
    "import json\n",
    "import random\n",
    "import time\n",
    "random.seed(42)\n",
    "current_time = time.strftime(\"%Y%m%d%H%M%S\")\n",
    "catering_requirements = [\n",
    "    {\n",
    "        \"feature\": \"常规\",\n",
    "        \"N_c_min\": [1, 2, 2],\n",
    "        \"N_c_max\": [10, 3, 2],\n",
    "        \"use_min_restaurant_gap\": 10800\n",
    "    },\n",
    "    {\n",
    "        \"feature\": \"美食\",\n",
    "        \"N_c_min\": [1, 3, 2],\n",
    "        \"N_c_max\": [10, 6, 2],\n",
    "        \"use_min_restaurant_gap\": 3600\n",
    "    }\n",
    "]\n",
    "time_requirements = [\n",
    "    {\n",
    "        \"feature\": \"慢节奏\",\n",
    "        \"start_day_time\": \"09:00:00\",\n",
    "        \"plan_max_time\": 12,\n",
    "        \"tightness_w\": 1.5\n",
    "    },\n",
    "    {\n",
    "        \"feature\": \"正常\",\n",
    "        \"start_day_time\": \"09:00:00\",\n",
    "        \"plan_max_time\": 12,\n",
    "        \"tightness_w\": 1\n",
    "    },\n",
    "    {\n",
    "        \"feature\": \"快节奏\",\n",
    "        \"start_day_time\": \"09:00:00\",\n",
    "        \"plan_max_time\": 12,\n",
    "        \"tightness_w\": 0.5\n",
    "    },\n",
    "    {\n",
    "        \"feature\": \"时间休闲\",\n",
    "        \"start_day_time\": \"10:30:00\",\n",
    "        \"plan_max_time\": 10,\n",
    "        \"tightness_w\": 1\n",
    "    },\n",
    "    {\n",
    "        \"feature\": \"时间高强度\",\n",
    "        \"start_day_time\": \"08:30:00\",\n",
    "        \"plan_max_time\": 14,\n",
    "        \"tightness_w\": 1\n",
    "    },\n",
    "    {\n",
    "        \"feature\": \"特种兵式\",\n",
    "        \"start_day_time\": \"08:00:00\",\n",
    "        \"plan_max_time\": 14,\n",
    "        \"tightness_w\": 0.5\n",
    "    }\n",
    "]\n",
    "\n",
    "day_poi_case = []\n",
    "for index, row in day_pois.iterrows():\n",
    "    every_day = row[\"poi\"].split('\\n')\n",
    "    route_num = row[\"day\"]\n",
    "    for i in range(20):\n",
    "        poi_name_list = []\n",
    "        for every_day_pois in every_day:\n",
    "            every_day_pois_list = every_day_pois.split(' > ')\n",
    "            #random choice from every_day_pois_list\n",
    "            random_k = random.randint(0, len(every_day_pois_list) - 1)\n",
    "            poi_name_list.extend(random.sample(every_day_pois_list, k=random_k))\n",
    "        for catering_requirement in catering_requirements:\n",
    "            for time_requirement in time_requirements:    \n",
    "                day_poi_case.append({\n",
    "                    \"poi_feature\": row['特色'],\n",
    "                    \"route_num\": route_num,\n",
    "                    \"poi_name_list\": poi_name_list,\n",
    "                    \"catering_feature\": catering_requirement['feature'],\n",
    "                    \"N_c_min\": catering_requirement['N_c_min'],\n",
    "                    \"N_c_max\": catering_requirement['N_c_max'],\n",
    "                    \"use_min_restaurant_gap\": catering_requirement['use_min_restaurant_gap'],\n",
    "                    \"time_feature\": time_requirement['feature'],\n",
    "                    \"start_day_time\": time_requirement['start_day_time'],\n",
    "                    \"plan_max_time\": time_requirement['plan_max_time'],\n",
    "                    \"tightness_w\": time_requirement['tightness_w']\n",
    "                })\n",
    "        \n",
    "#day_poi_case save to json file\n",
    "with open(f'../data/day_poi_case_{current_time}.json', 'w', encoding='utf-8') as f:\n",
    "    json.dump(day_poi_case, f, ensure_ascii=False, indent=4)"
   ],
   "metadata": {
    "collapsed": false,
    "ExecuteTime": {
     "end_time": "2024-08-31T07:42:15.536618Z",
     "start_time": "2024-08-31T07:42:15.461618Z"
    }
   },
   "id": "3db647e2f5f613af",
   "outputs": [],
   "execution_count": 3
  },
  {
   "cell_type": "code",
   "outputs": [],
   "source": [],
   "metadata": {
    "collapsed": false
   },
   "id": "df8e12f2530ad4f",
   "execution_count": null
  }
 ],
 "metadata": {
  "kernelspec": {
   "display_name": "Python 3",
   "language": "python",
   "name": "python3"
  },
  "language_info": {
   "codemirror_mode": {
    "name": "ipython",
    "version": 2
   },
   "file_extension": ".py",
   "mimetype": "text/x-python",
   "name": "python",
   "nbconvert_exporter": "python",
   "pygments_lexer": "ipython2",
   "version": "2.7.6"
  }
 },
 "nbformat": 4,
 "nbformat_minor": 5
}
